{
 "cells": [
  {
   "cell_type": "code",
   "execution_count": null,
   "metadata": {
    "id": "wcGliu7NW-ub"
   },
   "outputs": [],
   "source": [
    "import pandas as pd"
   ]
  },
  {
   "cell_type": "markdown",
   "metadata": {
    "id": "WPYzn5-UYv3z"
   },
   "source": [
    "Data obtained from http://biostat.mc.vanderbilt.edu/DataSets\".\n"
   ]
  },
  {
   "cell_type": "code",
   "execution_count": null,
   "metadata": {
    "id": "x91JDnmRXDpV"
   },
   "outputs": [],
   "source": [
    "nhanes = pd.read_csv('http://biostat.mc.vanderbilt.edu/wiki/pub/Main/DataSets/nhgh.tsv',sep ='\\t')"
   ]
  },
  {
   "cell_type": "code",
   "execution_count": null,
   "metadata": {
    "colab": {
     "base_uri": "https://localhost:8080/",
     "height": 639
    },
    "id": "_pVPVgoSXS6f",
    "outputId": "1beba353-735d-4070-b976-2557692efc8f"
   },
   "outputs": [
    {
     "data": {
      "text/html": [
       "<div>\n",
       "<style scoped>\n",
       "    .dataframe tbody tr th:only-of-type {\n",
       "        vertical-align: middle;\n",
       "    }\n",
       "\n",
       "    .dataframe tbody tr th {\n",
       "        vertical-align: top;\n",
       "    }\n",
       "\n",
       "    .dataframe thead th {\n",
       "        text-align: right;\n",
       "    }\n",
       "</style>\n",
       "<table border=\"1\" class=\"dataframe\">\n",
       "  <thead>\n",
       "    <tr style=\"text-align: right;\">\n",
       "      <th></th>\n",
       "      <th>seqn</th>\n",
       "      <th>sex</th>\n",
       "      <th>age</th>\n",
       "      <th>re</th>\n",
       "      <th>income</th>\n",
       "      <th>tx</th>\n",
       "      <th>dx</th>\n",
       "      <th>wt</th>\n",
       "      <th>ht</th>\n",
       "      <th>bmi</th>\n",
       "      <th>leg</th>\n",
       "      <th>arml</th>\n",
       "      <th>armc</th>\n",
       "      <th>waist</th>\n",
       "      <th>tri</th>\n",
       "      <th>sub</th>\n",
       "      <th>gh</th>\n",
       "      <th>albumin</th>\n",
       "      <th>bun</th>\n",
       "      <th>SCr</th>\n",
       "    </tr>\n",
       "  </thead>\n",
       "  <tbody>\n",
       "    <tr>\n",
       "      <th>0</th>\n",
       "      <td>51624</td>\n",
       "      <td>male</td>\n",
       "      <td>34.166667</td>\n",
       "      <td>Non-Hispanic White</td>\n",
       "      <td>[25000,35000)</td>\n",
       "      <td>0</td>\n",
       "      <td>0</td>\n",
       "      <td>87.4</td>\n",
       "      <td>164.7</td>\n",
       "      <td>32.22</td>\n",
       "      <td>41.5</td>\n",
       "      <td>40.0</td>\n",
       "      <td>36.4</td>\n",
       "      <td>100.4</td>\n",
       "      <td>16.4</td>\n",
       "      <td>24.9</td>\n",
       "      <td>5.2</td>\n",
       "      <td>4.8</td>\n",
       "      <td>6.0</td>\n",
       "      <td>0.94</td>\n",
       "    </tr>\n",
       "    <tr>\n",
       "      <th>1</th>\n",
       "      <td>51626</td>\n",
       "      <td>male</td>\n",
       "      <td>16.833333</td>\n",
       "      <td>Non-Hispanic Black</td>\n",
       "      <td>[45000,55000)</td>\n",
       "      <td>0</td>\n",
       "      <td>0</td>\n",
       "      <td>72.3</td>\n",
       "      <td>181.3</td>\n",
       "      <td>22.00</td>\n",
       "      <td>42.0</td>\n",
       "      <td>39.5</td>\n",
       "      <td>26.6</td>\n",
       "      <td>74.7</td>\n",
       "      <td>10.2</td>\n",
       "      <td>10.5</td>\n",
       "      <td>5.7</td>\n",
       "      <td>4.6</td>\n",
       "      <td>9.0</td>\n",
       "      <td>0.89</td>\n",
       "    </tr>\n",
       "    <tr>\n",
       "      <th>2</th>\n",
       "      <td>51628</td>\n",
       "      <td>female</td>\n",
       "      <td>60.166667</td>\n",
       "      <td>Non-Hispanic Black</td>\n",
       "      <td>[10000,15000)</td>\n",
       "      <td>1</td>\n",
       "      <td>1</td>\n",
       "      <td>116.8</td>\n",
       "      <td>166.0</td>\n",
       "      <td>42.39</td>\n",
       "      <td>35.3</td>\n",
       "      <td>39.0</td>\n",
       "      <td>42.2</td>\n",
       "      <td>118.2</td>\n",
       "      <td>29.6</td>\n",
       "      <td>35.6</td>\n",
       "      <td>6.0</td>\n",
       "      <td>3.9</td>\n",
       "      <td>10.0</td>\n",
       "      <td>1.11</td>\n",
       "    </tr>\n",
       "    <tr>\n",
       "      <th>3</th>\n",
       "      <td>51629</td>\n",
       "      <td>male</td>\n",
       "      <td>26.083333</td>\n",
       "      <td>Mexican American</td>\n",
       "      <td>[25000,35000)</td>\n",
       "      <td>0</td>\n",
       "      <td>0</td>\n",
       "      <td>97.6</td>\n",
       "      <td>173.0</td>\n",
       "      <td>32.61</td>\n",
       "      <td>41.7</td>\n",
       "      <td>38.7</td>\n",
       "      <td>37.0</td>\n",
       "      <td>103.7</td>\n",
       "      <td>19.0</td>\n",
       "      <td>23.2</td>\n",
       "      <td>5.1</td>\n",
       "      <td>4.2</td>\n",
       "      <td>8.0</td>\n",
       "      <td>0.80</td>\n",
       "    </tr>\n",
       "    <tr>\n",
       "      <th>4</th>\n",
       "      <td>51630</td>\n",
       "      <td>female</td>\n",
       "      <td>49.666667</td>\n",
       "      <td>Non-Hispanic White</td>\n",
       "      <td>[35000,45000)</td>\n",
       "      <td>0</td>\n",
       "      <td>0</td>\n",
       "      <td>86.7</td>\n",
       "      <td>168.4</td>\n",
       "      <td>30.57</td>\n",
       "      <td>37.5</td>\n",
       "      <td>36.1</td>\n",
       "      <td>33.3</td>\n",
       "      <td>107.8</td>\n",
       "      <td>30.3</td>\n",
       "      <td>28.0</td>\n",
       "      <td>5.3</td>\n",
       "      <td>4.3</td>\n",
       "      <td>13.0</td>\n",
       "      <td>0.79</td>\n",
       "    </tr>\n",
       "    <tr>\n",
       "      <th>5</th>\n",
       "      <td>51633</td>\n",
       "      <td>male</td>\n",
       "      <td>80.000000</td>\n",
       "      <td>Non-Hispanic White</td>\n",
       "      <td>[15000,20000)</td>\n",
       "      <td>0</td>\n",
       "      <td>1</td>\n",
       "      <td>79.1</td>\n",
       "      <td>174.3</td>\n",
       "      <td>26.04</td>\n",
       "      <td>42.8</td>\n",
       "      <td>40.0</td>\n",
       "      <td>30.2</td>\n",
       "      <td>91.1</td>\n",
       "      <td>8.6</td>\n",
       "      <td>15.2</td>\n",
       "      <td>5.4</td>\n",
       "      <td>4.3</td>\n",
       "      <td>16.0</td>\n",
       "      <td>0.83</td>\n",
       "    </tr>\n",
       "    <tr>\n",
       "      <th>6</th>\n",
       "      <td>51635</td>\n",
       "      <td>male</td>\n",
       "      <td>80.000000</td>\n",
       "      <td>Non-Hispanic White</td>\n",
       "      <td>[15000,20000)</td>\n",
       "      <td>1</td>\n",
       "      <td>1</td>\n",
       "      <td>89.6</td>\n",
       "      <td>180.1</td>\n",
       "      <td>27.62</td>\n",
       "      <td>43.0</td>\n",
       "      <td>41.7</td>\n",
       "      <td>33.3</td>\n",
       "      <td>113.7</td>\n",
       "      <td>19.4</td>\n",
       "      <td>26.2</td>\n",
       "      <td>6.8</td>\n",
       "      <td>4.3</td>\n",
       "      <td>16.0</td>\n",
       "      <td>0.90</td>\n",
       "    </tr>\n",
       "    <tr>\n",
       "      <th>7</th>\n",
       "      <td>51640</td>\n",
       "      <td>male</td>\n",
       "      <td>17.416667</td>\n",
       "      <td>Other Hispanic</td>\n",
       "      <td>[10000,15000)</td>\n",
       "      <td>0</td>\n",
       "      <td>0</td>\n",
       "      <td>74.7</td>\n",
       "      <td>169.6</td>\n",
       "      <td>25.97</td>\n",
       "      <td>39.8</td>\n",
       "      <td>38.1</td>\n",
       "      <td>33.4</td>\n",
       "      <td>86.0</td>\n",
       "      <td>12.4</td>\n",
       "      <td>15.0</td>\n",
       "      <td>5.1</td>\n",
       "      <td>4.7</td>\n",
       "      <td>11.0</td>\n",
       "      <td>1.00</td>\n",
       "    </tr>\n",
       "    <tr>\n",
       "      <th>8</th>\n",
       "      <td>51641</td>\n",
       "      <td>male</td>\n",
       "      <td>13.000000</td>\n",
       "      <td>Non-Hispanic Black</td>\n",
       "      <td>[75000,100000)</td>\n",
       "      <td>0</td>\n",
       "      <td>0</td>\n",
       "      <td>40.6</td>\n",
       "      <td>156.4</td>\n",
       "      <td>16.60</td>\n",
       "      <td>39.2</td>\n",
       "      <td>33.4</td>\n",
       "      <td>23.0</td>\n",
       "      <td>63.6</td>\n",
       "      <td>13.8</td>\n",
       "      <td>7.6</td>\n",
       "      <td>5.6</td>\n",
       "      <td>4.3</td>\n",
       "      <td>10.0</td>\n",
       "      <td>0.46</td>\n",
       "    </tr>\n",
       "    <tr>\n",
       "      <th>9</th>\n",
       "      <td>51643</td>\n",
       "      <td>female</td>\n",
       "      <td>43.000000</td>\n",
       "      <td>Non-Hispanic Black</td>\n",
       "      <td>[35000,45000)</td>\n",
       "      <td>1</td>\n",
       "      <td>1</td>\n",
       "      <td>107.7</td>\n",
       "      <td>164.3</td>\n",
       "      <td>39.90</td>\n",
       "      <td>32.7</td>\n",
       "      <td>36.5</td>\n",
       "      <td>39.6</td>\n",
       "      <td>129.8</td>\n",
       "      <td>27.0</td>\n",
       "      <td>NaN</td>\n",
       "      <td>11.0</td>\n",
       "      <td>3.6</td>\n",
       "      <td>16.0</td>\n",
       "      <td>2.54</td>\n",
       "    </tr>\n",
       "    <tr>\n",
       "      <th>10</th>\n",
       "      <td>51645</td>\n",
       "      <td>male</td>\n",
       "      <td>66.416667</td>\n",
       "      <td>Mexican American</td>\n",
       "      <td>[5000,10000)</td>\n",
       "      <td>0</td>\n",
       "      <td>0</td>\n",
       "      <td>82.9</td>\n",
       "      <td>171.3</td>\n",
       "      <td>28.25</td>\n",
       "      <td>NaN</td>\n",
       "      <td>NaN</td>\n",
       "      <td>NaN</td>\n",
       "      <td>NaN</td>\n",
       "      <td>NaN</td>\n",
       "      <td>NaN</td>\n",
       "      <td>5.7</td>\n",
       "      <td>4.4</td>\n",
       "      <td>9.0</td>\n",
       "      <td>0.86</td>\n",
       "    </tr>\n",
       "    <tr>\n",
       "      <th>11</th>\n",
       "      <td>51647</td>\n",
       "      <td>female</td>\n",
       "      <td>45.166667</td>\n",
       "      <td>Non-Hispanic White</td>\n",
       "      <td>[75000,100000)</td>\n",
       "      <td>0</td>\n",
       "      <td>0</td>\n",
       "      <td>75.7</td>\n",
       "      <td>166.7</td>\n",
       "      <td>27.24</td>\n",
       "      <td>38.0</td>\n",
       "      <td>34.7</td>\n",
       "      <td>31.5</td>\n",
       "      <td>84.8</td>\n",
       "      <td>18.6</td>\n",
       "      <td>7.7</td>\n",
       "      <td>5.1</td>\n",
       "      <td>4.4</td>\n",
       "      <td>6.0</td>\n",
       "      <td>0.86</td>\n",
       "    </tr>\n",
       "    <tr>\n",
       "      <th>12</th>\n",
       "      <td>51648</td>\n",
       "      <td>male</td>\n",
       "      <td>28.250000</td>\n",
       "      <td>Mexican American</td>\n",
       "      <td>[0,5000)</td>\n",
       "      <td>0</td>\n",
       "      <td>0</td>\n",
       "      <td>79.4</td>\n",
       "      <td>163.4</td>\n",
       "      <td>29.74</td>\n",
       "      <td>38.9</td>\n",
       "      <td>38.0</td>\n",
       "      <td>35.7</td>\n",
       "      <td>94.5</td>\n",
       "      <td>12.8</td>\n",
       "      <td>16.0</td>\n",
       "      <td>5.9</td>\n",
       "      <td>4.5</td>\n",
       "      <td>11.0</td>\n",
       "      <td>1.04</td>\n",
       "    </tr>\n",
       "    <tr>\n",
       "      <th>13</th>\n",
       "      <td>51651</td>\n",
       "      <td>female</td>\n",
       "      <td>19.333333</td>\n",
       "      <td>Non-Hispanic Black</td>\n",
       "      <td>[20000,25000)</td>\n",
       "      <td>0</td>\n",
       "      <td>0</td>\n",
       "      <td>111.6</td>\n",
       "      <td>165.7</td>\n",
       "      <td>40.65</td>\n",
       "      <td>38.5</td>\n",
       "      <td>35.6</td>\n",
       "      <td>40.5</td>\n",
       "      <td>117.4</td>\n",
       "      <td>NaN</td>\n",
       "      <td>NaN</td>\n",
       "      <td>6.2</td>\n",
       "      <td>4.1</td>\n",
       "      <td>9.0</td>\n",
       "      <td>0.71</td>\n",
       "    </tr>\n",
       "    <tr>\n",
       "      <th>14</th>\n",
       "      <td>51653</td>\n",
       "      <td>male</td>\n",
       "      <td>45.000000</td>\n",
       "      <td>Non-Hispanic White</td>\n",
       "      <td>[45000,55000)</td>\n",
       "      <td>0</td>\n",
       "      <td>0</td>\n",
       "      <td>102.4</td>\n",
       "      <td>187.6</td>\n",
       "      <td>29.10</td>\n",
       "      <td>45.9</td>\n",
       "      <td>42.2</td>\n",
       "      <td>36.4</td>\n",
       "      <td>106.6</td>\n",
       "      <td>14.4</td>\n",
       "      <td>20.0</td>\n",
       "      <td>5.4</td>\n",
       "      <td>4.7</td>\n",
       "      <td>16.0</td>\n",
       "      <td>1.32</td>\n",
       "    </tr>\n",
       "    <tr>\n",
       "      <th>15</th>\n",
       "      <td>51654</td>\n",
       "      <td>male</td>\n",
       "      <td>66.416667</td>\n",
       "      <td>Non-Hispanic White</td>\n",
       "      <td>[25000,35000)</td>\n",
       "      <td>0</td>\n",
       "      <td>0</td>\n",
       "      <td>68.0</td>\n",
       "      <td>169.5</td>\n",
       "      <td>23.67</td>\n",
       "      <td>37.3</td>\n",
       "      <td>38.6</td>\n",
       "      <td>31.2</td>\n",
       "      <td>89.2</td>\n",
       "      <td>7.4</td>\n",
       "      <td>12.5</td>\n",
       "      <td>5.8</td>\n",
       "      <td>3.9</td>\n",
       "      <td>20.0</td>\n",
       "      <td>1.59</td>\n",
       "    </tr>\n",
       "    <tr>\n",
       "      <th>16</th>\n",
       "      <td>51655</td>\n",
       "      <td>female</td>\n",
       "      <td>49.500000</td>\n",
       "      <td>Mexican American</td>\n",
       "      <td>[25000,35000)</td>\n",
       "      <td>0</td>\n",
       "      <td>0</td>\n",
       "      <td>76.5</td>\n",
       "      <td>164.1</td>\n",
       "      <td>28.41</td>\n",
       "      <td>35.6</td>\n",
       "      <td>36.3</td>\n",
       "      <td>33.8</td>\n",
       "      <td>92.6</td>\n",
       "      <td>23.0</td>\n",
       "      <td>16.2</td>\n",
       "      <td>5.7</td>\n",
       "      <td>4.3</td>\n",
       "      <td>6.0</td>\n",
       "      <td>0.74</td>\n",
       "    </tr>\n",
       "    <tr>\n",
       "      <th>17</th>\n",
       "      <td>51656</td>\n",
       "      <td>male</td>\n",
       "      <td>58.916667</td>\n",
       "      <td>Non-Hispanic White</td>\n",
       "      <td>&gt;= 100000</td>\n",
       "      <td>0</td>\n",
       "      <td>1</td>\n",
       "      <td>78.4</td>\n",
       "      <td>181.9</td>\n",
       "      <td>23.69</td>\n",
       "      <td>42.6</td>\n",
       "      <td>42.0</td>\n",
       "      <td>29.5</td>\n",
       "      <td>92.5</td>\n",
       "      <td>6.2</td>\n",
       "      <td>19.0</td>\n",
       "      <td>6.0</td>\n",
       "      <td>4.4</td>\n",
       "      <td>15.0</td>\n",
       "      <td>1.13</td>\n",
       "    </tr>\n",
       "    <tr>\n",
       "      <th>18</th>\n",
       "      <td>51657</td>\n",
       "      <td>male</td>\n",
       "      <td>54.500000</td>\n",
       "      <td>Non-Hispanic White</td>\n",
       "      <td>[65000,75000)</td>\n",
       "      <td>0</td>\n",
       "      <td>0</td>\n",
       "      <td>74.7</td>\n",
       "      <td>169.4</td>\n",
       "      <td>26.03</td>\n",
       "      <td>41.1</td>\n",
       "      <td>39.7</td>\n",
       "      <td>32.6</td>\n",
       "      <td>96.2</td>\n",
       "      <td>8.1</td>\n",
       "      <td>13.7</td>\n",
       "      <td>5.2</td>\n",
       "      <td>4.1</td>\n",
       "      <td>16.0</td>\n",
       "      <td>1.55</td>\n",
       "    </tr>\n",
       "    <tr>\n",
       "      <th>19</th>\n",
       "      <td>51658</td>\n",
       "      <td>female</td>\n",
       "      <td>26.750000</td>\n",
       "      <td>Mexican American</td>\n",
       "      <td>[45000,55000)</td>\n",
       "      <td>0</td>\n",
       "      <td>0</td>\n",
       "      <td>103.9</td>\n",
       "      <td>162.7</td>\n",
       "      <td>39.25</td>\n",
       "      <td>38.5</td>\n",
       "      <td>37.7</td>\n",
       "      <td>37.6</td>\n",
       "      <td>121.2</td>\n",
       "      <td>26.8</td>\n",
       "      <td>20.2</td>\n",
       "      <td>5.3</td>\n",
       "      <td>3.8</td>\n",
       "      <td>11.0</td>\n",
       "      <td>0.61</td>\n",
       "    </tr>\n",
       "  </tbody>\n",
       "</table>\n",
       "</div>"
      ],
      "text/plain": [
       "     seqn     sex        age                  re  ...    gh  albumin   bun   SCr\n",
       "0   51624    male  34.166667  Non-Hispanic White  ...   5.2      4.8   6.0  0.94\n",
       "1   51626    male  16.833333  Non-Hispanic Black  ...   5.7      4.6   9.0  0.89\n",
       "2   51628  female  60.166667  Non-Hispanic Black  ...   6.0      3.9  10.0  1.11\n",
       "3   51629    male  26.083333    Mexican American  ...   5.1      4.2   8.0  0.80\n",
       "4   51630  female  49.666667  Non-Hispanic White  ...   5.3      4.3  13.0  0.79\n",
       "5   51633    male  80.000000  Non-Hispanic White  ...   5.4      4.3  16.0  0.83\n",
       "6   51635    male  80.000000  Non-Hispanic White  ...   6.8      4.3  16.0  0.90\n",
       "7   51640    male  17.416667      Other Hispanic  ...   5.1      4.7  11.0  1.00\n",
       "8   51641    male  13.000000  Non-Hispanic Black  ...   5.6      4.3  10.0  0.46\n",
       "9   51643  female  43.000000  Non-Hispanic Black  ...  11.0      3.6  16.0  2.54\n",
       "10  51645    male  66.416667    Mexican American  ...   5.7      4.4   9.0  0.86\n",
       "11  51647  female  45.166667  Non-Hispanic White  ...   5.1      4.4   6.0  0.86\n",
       "12  51648    male  28.250000    Mexican American  ...   5.9      4.5  11.0  1.04\n",
       "13  51651  female  19.333333  Non-Hispanic Black  ...   6.2      4.1   9.0  0.71\n",
       "14  51653    male  45.000000  Non-Hispanic White  ...   5.4      4.7  16.0  1.32\n",
       "15  51654    male  66.416667  Non-Hispanic White  ...   5.8      3.9  20.0  1.59\n",
       "16  51655  female  49.500000    Mexican American  ...   5.7      4.3   6.0  0.74\n",
       "17  51656    male  58.916667  Non-Hispanic White  ...   6.0      4.4  15.0  1.13\n",
       "18  51657    male  54.500000  Non-Hispanic White  ...   5.2      4.1  16.0  1.55\n",
       "19  51658  female  26.750000    Mexican American  ...   5.3      3.8  11.0  0.61\n",
       "\n",
       "[20 rows x 20 columns]"
      ]
     },
     "execution_count": 3,
     "metadata": {
      "tags": []
     },
     "output_type": "execute_result"
    }
   ],
   "source": [
    "nhanes.head(20)"
   ]
  },
  {
   "cell_type": "code",
   "execution_count": null,
   "metadata": {
    "colab": {
     "base_uri": "https://localhost:8080/",
     "height": 34
    },
    "id": "b4ROWs8TXWoe",
    "outputId": "cfa5ee71-e3f0-4c75-8e64-105dacee8eed"
   },
   "outputs": [
    {
     "data": {
      "text/plain": [
       "(6795, 20)"
      ]
     },
     "execution_count": 4,
     "metadata": {
      "tags": []
     },
     "output_type": "execute_result"
    }
   ],
   "source": [
    "nhanes.shape"
   ]
  },
  {
   "cell_type": "markdown",
   "metadata": {
    "id": "o9hbNDfHGfhf"
   },
   "source": [
    "Feature selection - \n",
    "The main featutes out of the 20 columns is chosen based on the importance of the diabetes causing and prediction indicators. Also based on the blood glucose ranges.\n",
    "\n",
    "1. unique identifier - seqn\n",
    "2. Gender - Sex\n",
    "3. Age\n",
    "4. physical attributes - Weight(wt), Height(ht), BMI, High waist circumference(waist)\n",
    "5. Glucose -  Glycoheamoglobin(gh)\n",
    "6. Albumin, blood urea nitogrn content(BUN), Creatinine(SCr)\n",
    "\n"
   ]
  },
  {
   "cell_type": "code",
   "execution_count": null,
   "metadata": {
    "colab": {
     "base_uri": "https://localhost:8080/",
     "height": 649
    },
    "id": "6KTCy-Afaq-t",
    "outputId": "26672bea-9439-4c0e-cc32-3d86bf88a2bc"
   },
   "outputs": [
    {
     "name": "stderr",
     "output_type": "stream",
     "text": [
      "/usr/local/lib/python3.6/dist-packages/statsmodels/tools/_testing.py:19: FutureWarning: pandas.util.testing is deprecated. Use the functions in the public API at pandas.testing instead.\n",
      "  import pandas.util.testing as tm\n"
     ]
    },
    {
     "data": {
      "image/png": "[encoded data removed]",
      "text/plain": [
       "<Figure size 1152x720 with 2 Axes>"
      ]
     },
     "metadata": {
      "needs_background": "light",
      "tags": []
     },
     "output_type": "display_data"
    }
   ],
   "source": [
    "import seaborn as sns\n",
    "import matplotlib.pyplot as plt\n",
    "\n",
    "X = nhanes.iloc[:,0:20]  #independent columns\n",
    "\n",
    "#get correlations of each features in dataset\n",
    "corrmat = nhanes.corr()\n",
    "top_corr_features = corrmat.index\n",
    "plt.figure(figsize=(16,10))\n",
    "#plot heat map\n",
    "g=sns.heatmap(nhanes[top_corr_features].corr(),annot=True,cmap=\"RdYlGn\")"
   ]
  },
  {
   "cell_type": "code",
   "execution_count": null,
   "metadata": {
    "colab": {
     "base_uri": "https://localhost:8080/",
     "height": 550
    },
    "id": "e8ZBCJdL1-2S",
    "outputId": "e85a48d0-7206-4fa4-bef7-9234cc3de03e"
   },
   "outputs": [
    {
     "data": {
      "text/html": [
       "<div>\n",
       "<style scoped>\n",
       "    .dataframe tbody tr th:only-of-type {\n",
       "        vertical-align: middle;\n",
       "    }\n",
       "\n",
       "    .dataframe tbody tr th {\n",
       "        vertical-align: top;\n",
       "    }\n",
       "\n",
       "    .dataframe thead th {\n",
       "        text-align: right;\n",
       "    }\n",
       "</style>\n",
       "<table border=\"1\" class=\"dataframe\">\n",
       "  <thead>\n",
       "    <tr style=\"text-align: right;\">\n",
       "      <th></th>\n",
       "      <th>seqn</th>\n",
       "      <th>age</th>\n",
       "      <th>tx</th>\n",
       "      <th>dx</th>\n",
       "      <th>wt</th>\n",
       "      <th>ht</th>\n",
       "      <th>bmi</th>\n",
       "      <th>leg</th>\n",
       "      <th>arml</th>\n",
       "      <th>armc</th>\n",
       "      <th>waist</th>\n",
       "      <th>tri</th>\n",
       "      <th>sub</th>\n",
       "      <th>gh</th>\n",
       "      <th>albumin</th>\n",
       "      <th>bun</th>\n",
       "      <th>SCr</th>\n",
       "    </tr>\n",
       "  </thead>\n",
       "  <tbody>\n",
       "    <tr>\n",
       "      <th>seqn</th>\n",
       "      <td>1.000000</td>\n",
       "      <td>0.006522</td>\n",
       "      <td>-0.015795</td>\n",
       "      <td>-0.010337</td>\n",
       "      <td>-0.003419</td>\n",
       "      <td>0.002080</td>\n",
       "      <td>-0.004782</td>\n",
       "      <td>0.001177</td>\n",
       "      <td>-0.000763</td>\n",
       "      <td>0.006467</td>\n",
       "      <td>-0.003633</td>\n",
       "      <td>-0.000729</td>\n",
       "      <td>0.006023</td>\n",
       "      <td>-0.011620</td>\n",
       "      <td>0.011264</td>\n",
       "      <td>-0.002612</td>\n",
       "      <td>-0.001885</td>\n",
       "    </tr>\n",
       "    <tr>\n",
       "      <th>age</th>\n",
       "      <td>0.006522</td>\n",
       "      <td>1.000000</td>\n",
       "      <td>0.285142</td>\n",
       "      <td>0.300478</td>\n",
       "      <td>0.148607</td>\n",
       "      <td>-0.065289</td>\n",
       "      <td>0.209068</td>\n",
       "      <td>-0.285948</td>\n",
       "      <td>0.123960</td>\n",
       "      <td>0.157683</td>\n",
       "      <td>0.373501</td>\n",
       "      <td>0.101468</td>\n",
       "      <td>0.217317</td>\n",
       "      <td>0.329037</td>\n",
       "      <td>-0.294310</td>\n",
       "      <td>0.440729</td>\n",
       "      <td>0.224004</td>\n",
       "    </tr>\n",
       "    <tr>\n",
       "      <th>tx</th>\n",
       "      <td>-0.015795</td>\n",
       "      <td>0.285142</td>\n",
       "      <td>1.000000</td>\n",
       "      <td>0.781226</td>\n",
       "      <td>0.170222</td>\n",
       "      <td>-0.035375</td>\n",
       "      <td>0.211768</td>\n",
       "      <td>-0.161217</td>\n",
       "      <td>0.068130</td>\n",
       "      <td>0.161668</td>\n",
       "      <td>0.248576</td>\n",
       "      <td>0.122907</td>\n",
       "      <td>0.160323</td>\n",
       "      <td>0.558510</td>\n",
       "      <td>-0.158683</td>\n",
       "      <td>0.211099</td>\n",
       "      <td>0.099756</td>\n",
       "    </tr>\n",
       "    <tr>\n",
       "      <th>dx</th>\n",
       "      <td>-0.010337</td>\n",
       "      <td>0.300478</td>\n",
       "      <td>0.781226</td>\n",
       "      <td>1.000000</td>\n",
       "      <td>0.187924</td>\n",
       "      <td>-0.036532</td>\n",
       "      <td>0.232171</td>\n",
       "      <td>-0.162839</td>\n",
       "      <td>0.072114</td>\n",
       "      <td>0.186973</td>\n",
       "      <td>0.271778</td>\n",
       "      <td>0.139636</td>\n",
       "      <td>0.188773</td>\n",
       "      <td>0.523509</td>\n",
       "      <td>-0.170359</td>\n",
       "      <td>0.194112</td>\n",
       "      <td>0.110616</td>\n",
       "    </tr>\n",
       "    <tr>\n",
       "      <th>wt</th>\n",
       "      <td>-0.003419</td>\n",
       "      <td>0.148607</td>\n",
       "      <td>0.170222</td>\n",
       "      <td>0.187924</td>\n",
       "      <td>1.000000</td>\n",
       "      <td>0.463314</td>\n",
       "      <td>0.887547</td>\n",
       "      <td>0.267828</td>\n",
       "      <td>0.632382</td>\n",
       "      <td>0.905456</td>\n",
       "      <td>0.898307</td>\n",
       "      <td>0.407766</td>\n",
       "      <td>0.610615</td>\n",
       "      <td>0.191428</td>\n",
       "      <td>-0.210422</td>\n",
       "      <td>0.074347</td>\n",
       "      <td>0.130654</td>\n",
       "    </tr>\n",
       "    <tr>\n",
       "      <th>ht</th>\n",
       "      <td>0.002080</td>\n",
       "      <td>-0.065289</td>\n",
       "      <td>-0.035375</td>\n",
       "      <td>-0.036532</td>\n",
       "      <td>0.463314</td>\n",
       "      <td>1.000000</td>\n",
       "      <td>0.018150</td>\n",
       "      <td>0.761027</td>\n",
       "      <td>0.799817</td>\n",
       "      <td>0.266974</td>\n",
       "      <td>0.205808</td>\n",
       "      <td>-0.272477</td>\n",
       "      <td>-0.048461</td>\n",
       "      <td>-0.036931</td>\n",
       "      <td>0.225015</td>\n",
       "      <td>0.010553</td>\n",
       "      <td>0.209656</td>\n",
       "    </tr>\n",
       "    <tr>\n",
       "      <th>bmi</th>\n",
       "      <td>-0.004782</td>\n",
       "      <td>0.209068</td>\n",
       "      <td>0.211768</td>\n",
       "      <td>0.232171</td>\n",
       "      <td>0.887547</td>\n",
       "      <td>0.018150</td>\n",
       "      <td>1.000000</td>\n",
       "      <td>-0.092200</td>\n",
       "      <td>0.309930</td>\n",
       "      <td>0.894753</td>\n",
       "      <td>0.913802</td>\n",
       "      <td>0.626332</td>\n",
       "      <td>0.737674</td>\n",
       "      <td>0.233976</td>\n",
       "      <td>-0.354591</td>\n",
       "      <td>0.081858</td>\n",
       "      <td>0.044338</td>\n",
       "    </tr>\n",
       "    <tr>\n",
       "      <th>leg</th>\n",
       "      <td>0.001177</td>\n",
       "      <td>-0.285948</td>\n",
       "      <td>-0.161217</td>\n",
       "      <td>-0.162839</td>\n",
       "      <td>0.267828</td>\n",
       "      <td>0.761027</td>\n",
       "      <td>-0.092200</td>\n",
       "      <td>1.000000</td>\n",
       "      <td>0.631942</td>\n",
       "      <td>0.124547</td>\n",
       "      <td>-0.012793</td>\n",
       "      <td>-0.237763</td>\n",
       "      <td>-0.111230</td>\n",
       "      <td>-0.167727</td>\n",
       "      <td>0.235671</td>\n",
       "      <td>-0.085340</td>\n",
       "      <td>0.133994</td>\n",
       "    </tr>\n",
       "    <tr>\n",
       "      <th>arml</th>\n",
       "      <td>-0.000763</td>\n",
       "      <td>0.123960</td>\n",
       "      <td>0.068130</td>\n",
       "      <td>0.072114</td>\n",
       "      <td>0.632382</td>\n",
       "      <td>0.799817</td>\n",
       "      <td>0.309930</td>\n",
       "      <td>0.631942</td>\n",
       "      <td>1.000000</td>\n",
       "      <td>0.499440</td>\n",
       "      <td>0.453988</td>\n",
       "      <td>-0.057428</td>\n",
       "      <td>0.172157</td>\n",
       "      <td>0.077672</td>\n",
       "      <td>0.047014</td>\n",
       "      <td>0.111262</td>\n",
       "      <td>0.247941</td>\n",
       "    </tr>\n",
       "    <tr>\n",
       "      <th>armc</th>\n",
       "      <td>0.006467</td>\n",
       "      <td>0.157683</td>\n",
       "      <td>0.161668</td>\n",
       "      <td>0.186973</td>\n",
       "      <td>0.905456</td>\n",
       "      <td>0.266974</td>\n",
       "      <td>0.894753</td>\n",
       "      <td>0.124547</td>\n",
       "      <td>0.499440</td>\n",
       "      <td>1.000000</td>\n",
       "      <td>0.849151</td>\n",
       "      <td>0.516610</td>\n",
       "      <td>0.665283</td>\n",
       "      <td>0.189877</td>\n",
       "      <td>-0.232586</td>\n",
       "      <td>0.066529</td>\n",
       "      <td>0.114692</td>\n",
       "    </tr>\n",
       "    <tr>\n",
       "      <th>waist</th>\n",
       "      <td>-0.003633</td>\n",
       "      <td>0.373501</td>\n",
       "      <td>0.248576</td>\n",
       "      <td>0.271778</td>\n",
       "      <td>0.898307</td>\n",
       "      <td>0.205808</td>\n",
       "      <td>0.913802</td>\n",
       "      <td>-0.012793</td>\n",
       "      <td>0.453988</td>\n",
       "      <td>0.849151</td>\n",
       "      <td>1.000000</td>\n",
       "      <td>0.512841</td>\n",
       "      <td>0.699782</td>\n",
       "      <td>0.287752</td>\n",
       "      <td>-0.325293</td>\n",
       "      <td>0.158372</td>\n",
       "      <td>0.113414</td>\n",
       "    </tr>\n",
       "    <tr>\n",
       "      <th>tri</th>\n",
       "      <td>-0.000729</td>\n",
       "      <td>0.101468</td>\n",
       "      <td>0.122907</td>\n",
       "      <td>0.139636</td>\n",
       "      <td>0.407766</td>\n",
       "      <td>-0.272477</td>\n",
       "      <td>0.626332</td>\n",
       "      <td>-0.237763</td>\n",
       "      <td>-0.057428</td>\n",
       "      <td>0.516610</td>\n",
       "      <td>0.512841</td>\n",
       "      <td>1.000000</td>\n",
       "      <td>0.671452</td>\n",
       "      <td>0.107419</td>\n",
       "      <td>-0.332616</td>\n",
       "      <td>-0.032601</td>\n",
       "      <td>-0.126200</td>\n",
       "    </tr>\n",
       "    <tr>\n",
       "      <th>sub</th>\n",
       "      <td>0.006023</td>\n",
       "      <td>0.217317</td>\n",
       "      <td>0.160323</td>\n",
       "      <td>0.188773</td>\n",
       "      <td>0.610615</td>\n",
       "      <td>-0.048461</td>\n",
       "      <td>0.737674</td>\n",
       "      <td>-0.111230</td>\n",
       "      <td>0.172157</td>\n",
       "      <td>0.665283</td>\n",
       "      <td>0.699782</td>\n",
       "      <td>0.671452</td>\n",
       "      <td>1.000000</td>\n",
       "      <td>0.212357</td>\n",
       "      <td>-0.264431</td>\n",
       "      <td>0.017131</td>\n",
       "      <td>-0.015798</td>\n",
       "    </tr>\n",
       "    <tr>\n",
       "      <th>gh</th>\n",
       "      <td>-0.011620</td>\n",
       "      <td>0.329037</td>\n",
       "      <td>0.558510</td>\n",
       "      <td>0.523509</td>\n",
       "      <td>0.191428</td>\n",
       "      <td>-0.036931</td>\n",
       "      <td>0.233976</td>\n",
       "      <td>-0.167727</td>\n",
       "      <td>0.077672</td>\n",
       "      <td>0.189877</td>\n",
       "      <td>0.287752</td>\n",
       "      <td>0.107419</td>\n",
       "      <td>0.212357</td>\n",
       "      <td>1.000000</td>\n",
       "      <td>-0.227775</td>\n",
       "      <td>0.153403</td>\n",
       "      <td>0.062287</td>\n",
       "    </tr>\n",
       "    <tr>\n",
       "      <th>albumin</th>\n",
       "      <td>0.011264</td>\n",
       "      <td>-0.294310</td>\n",
       "      <td>-0.158683</td>\n",
       "      <td>-0.170359</td>\n",
       "      <td>-0.210422</td>\n",
       "      <td>0.225015</td>\n",
       "      <td>-0.354591</td>\n",
       "      <td>0.235671</td>\n",
       "      <td>0.047014</td>\n",
       "      <td>-0.232586</td>\n",
       "      <td>-0.325293</td>\n",
       "      <td>-0.332616</td>\n",
       "      <td>-0.264431</td>\n",
       "      <td>-0.227775</td>\n",
       "      <td>1.000000</td>\n",
       "      <td>-0.095448</td>\n",
       "      <td>-0.052778</td>\n",
       "    </tr>\n",
       "    <tr>\n",
       "      <th>bun</th>\n",
       "      <td>-0.002612</td>\n",
       "      <td>0.440729</td>\n",
       "      <td>0.211099</td>\n",
       "      <td>0.194112</td>\n",
       "      <td>0.074347</td>\n",
       "      <td>0.010553</td>\n",
       "      <td>0.081858</td>\n",
       "      <td>-0.085340</td>\n",
       "      <td>0.111262</td>\n",
       "      <td>0.066529</td>\n",
       "      <td>0.158372</td>\n",
       "      <td>-0.032601</td>\n",
       "      <td>0.017131</td>\n",
       "      <td>0.153403</td>\n",
       "      <td>-0.095448</td>\n",
       "      <td>1.000000</td>\n",
       "      <td>0.510238</td>\n",
       "    </tr>\n",
       "    <tr>\n",
       "      <th>SCr</th>\n",
       "      <td>-0.001885</td>\n",
       "      <td>0.224004</td>\n",
       "      <td>0.099756</td>\n",
       "      <td>0.110616</td>\n",
       "      <td>0.130654</td>\n",
       "      <td>0.209656</td>\n",
       "      <td>0.044338</td>\n",
       "      <td>0.133994</td>\n",
       "      <td>0.247941</td>\n",
       "      <td>0.114692</td>\n",
       "      <td>0.113414</td>\n",
       "      <td>-0.126200</td>\n",
       "      <td>-0.015798</td>\n",
       "      <td>0.062287</td>\n",
       "      <td>-0.052778</td>\n",
       "      <td>0.510238</td>\n",
       "      <td>1.000000</td>\n",
       "    </tr>\n",
       "  </tbody>\n",
       "</table>\n",
       "</div>"
      ],
      "text/plain": [
       "             seqn       age        tx  ...   albumin       bun       SCr\n",
       "seqn     1.000000  0.006522 -0.015795  ...  0.011264 -0.002612 -0.001885\n",
       "age      0.006522  1.000000  0.285142  ... -0.294310  0.440729  0.224004\n",
       "tx      -0.015795  0.285142  1.000000  ... -0.158683  0.211099  0.099756\n",
       "dx      -0.010337  0.300478  0.781226  ... -0.170359  0.194112  0.110616\n",
       "wt      -0.003419  0.148607  0.170222  ... -0.210422  0.074347  0.130654\n",
       "ht       0.002080 -0.065289 -0.035375  ...  0.225015  0.010553  0.209656\n",
       "bmi     -0.004782  0.209068  0.211768  ... -0.354591  0.081858  0.044338\n",
       "leg      0.001177 -0.285948 -0.161217  ...  0.235671 -0.085340  0.133994\n",
       "arml    -0.000763  0.123960  0.068130  ...  0.047014  0.111262  0.247941\n",
       "armc     0.006467  0.157683  0.161668  ... -0.232586  0.066529  0.114692\n",
       "waist   -0.003633  0.373501  0.248576  ... -0.325293  0.158372  0.113414\n",
       "tri     -0.000729  0.101468  0.122907  ... -0.332616 -0.032601 -0.126200\n",
       "sub      0.006023  0.217317  0.160323  ... -0.264431  0.017131 -0.015798\n",
       "gh      -0.011620  0.329037  0.558510  ... -0.227775  0.153403  0.062287\n",
       "albumin  0.011264 -0.294310 -0.158683  ...  1.000000 -0.095448 -0.052778\n",
       "bun     -0.002612  0.440729  0.211099  ... -0.095448  1.000000  0.510238\n",
       "SCr     -0.001885  0.224004  0.099756  ... -0.052778  0.510238  1.000000\n",
       "\n",
       "[17 rows x 17 columns]"
      ]
     },
     "execution_count": 6,
     "metadata": {
      "tags": []
     },
     "output_type": "execute_result"
    }
   ],
   "source": [
    "corrmat \n",
    "#top_corr_features "
   ]
  },
  {
   "cell_type": "code",
   "execution_count": null,
   "metadata": {
    "id": "NAdKhhNQF5oG"
   },
   "outputs": [],
   "source": [
    "nhanes_subset = nhanes[['seqn','sex','age','tx','dx','wt','ht','bmi','waist','sub','gh','albumin','bun','SCr']].copy()"
   ]
  },
  {
   "cell_type": "code",
   "execution_count": null,
   "metadata": {
    "colab": {
     "base_uri": "https://localhost:8080/",
     "height": 151
    },
    "id": "Vs9HKn-uJvmY",
    "outputId": "86ebf449-0d35-48b3-d0ee-2f34f36548b5"
   },
   "outputs": [
    {
     "data": {
      "text/plain": [
       "(    seqn     sex        age  tx  dx  ...   sub   gh  albumin   bun   SCr\n",
       " 0  51624    male  34.166667   0   0  ...  24.9  5.2      4.8   6.0  0.94\n",
       " 1  51626    male  16.833333   0   0  ...  10.5  5.7      4.6   9.0  0.89\n",
       " 2  51628  female  60.166667   1   1  ...  35.6  6.0      3.9  10.0  1.11\n",
       " 3  51629    male  26.083333   0   0  ...  23.2  5.1      4.2   8.0  0.80\n",
       " 4  51630  female  49.666667   0   0  ...  28.0  5.3      4.3  13.0  0.79\n",
       " \n",
       " [5 rows x 14 columns], (6795, 14))"
      ]
     },
     "execution_count": 7,
     "metadata": {
      "tags": []
     },
     "output_type": "execute_result"
    }
   ],
   "source": [
    "nhanes_subset.head(), nhanes_subset.shape"
   ]
  },
  {
   "cell_type": "code",
   "execution_count": null,
   "metadata": {
    "colab": {
     "base_uri": "https://localhost:8080/",
     "height": 34
    },
    "id": "C2culZWaJ0BX",
    "outputId": "91896ab8-f986-44ad-d902-9fa7a4b02373"
   },
   "outputs": [
    {
     "data": {
      "text/plain": [
       "99"
      ]
     },
     "execution_count": 8,
     "metadata": {
      "tags": []
     },
     "output_type": "execute_result"
    }
   ],
   "source": [
    "nhanes_subset['gh'].nunique()"
   ]
  },
  {
   "cell_type": "code",
   "execution_count": null,
   "metadata": {
    "colab": {
     "base_uri": "https://localhost:8080/",
     "height": 370
    },
    "id": "a-ec-SFji5Nn",
    "outputId": "88e8cf17-2aa5-4813-d8dd-ea9018ba922a"
   },
   "outputs": [
    {
     "name": "stdout",
     "output_type": "stream",
     "text": [
      "<class 'pandas.core.frame.DataFrame'>\n",
      "RangeIndex: 6795 entries, 0 to 6794\n",
      "Data columns (total 14 columns):\n",
      " #   Column   Non-Null Count  Dtype  \n",
      "---  ------   --------------  -----  \n",
      " 0   seqn     6795 non-null   int64  \n",
      " 1   sex      6795 non-null   object \n",
      " 2   age      6795 non-null   float64\n",
      " 3   tx       6795 non-null   int64  \n",
      " 4   dx       6795 non-null   int64  \n",
      " 5   wt       6795 non-null   float64\n",
      " 6   ht       6795 non-null   float64\n",
      " 7   bmi      6795 non-null   float64\n",
      " 8   waist    6556 non-null   float64\n",
      " 9   sub      5824 non-null   float64\n",
      " 10  gh       6795 non-null   float64\n",
      " 11  albumin  6706 non-null   float64\n",
      " 12  bun      6706 non-null   float64\n",
      " 13  SCr      6706 non-null   float64\n",
      "dtypes: float64(10), int64(3), object(1)\n",
      "memory usage: 743.3+ KB\n"
     ]
    }
   ],
   "source": [
    "nhanes_subset.info()"
   ]
  },
  {
   "cell_type": "code",
   "execution_count": null,
   "metadata": {
    "colab": {
     "base_uri": "https://localhost:8080/",
     "height": 269
    },
    "id": "x3TEXkqX4F7w",
    "outputId": "a2e4c5b6-b036-4699-f8eb-29a1c28c934f"
   },
   "outputs": [
    {
     "data": {
      "text/plain": [
       "seqn         0\n",
       "sex          0\n",
       "age          0\n",
       "tx           0\n",
       "dx           0\n",
       "wt           0\n",
       "ht           0\n",
       "bmi          0\n",
       "waist      239\n",
       "sub        971\n",
       "gh           0\n",
       "albumin     89\n",
       "bun         89\n",
       "SCr         89\n",
       "dtype: int64"
      ]
     },
     "execution_count": 10,
     "metadata": {
      "tags": []
     },
     "output_type": "execute_result"
    }
   ],
   "source": [
    "nhanes_subset.isna().sum()"
   ]
  },
  {
   "cell_type": "code",
   "execution_count": null,
   "metadata": {
    "id": "pP64pyXYkUxj"
   },
   "outputs": [],
   "source": [
    "nhanes_subset.dropna(inplace=True)"
   ]
  },
  {
   "cell_type": "code",
   "execution_count": null,
   "metadata": {
    "colab": {
     "base_uri": "https://localhost:8080/",
     "height": 370
    },
    "id": "J9L1giy1kZ-J",
    "outputId": "8dafccdd-8434-484b-a6f2-a799173592b2"
   },
   "outputs": [
    {
     "name": "stdout",
     "output_type": "stream",
     "text": [
      "<class 'pandas.core.frame.DataFrame'>\n",
      "Int64Index: 5732 entries, 0 to 6794\n",
      "Data columns (total 14 columns):\n",
      " #   Column   Non-Null Count  Dtype  \n",
      "---  ------   --------------  -----  \n",
      " 0   seqn     5732 non-null   int64  \n",
      " 1   sex      5732 non-null   object \n",
      " 2   age      5732 non-null   float64\n",
      " 3   tx       5732 non-null   int64  \n",
      " 4   dx       5732 non-null   int64  \n",
      " 5   wt       5732 non-null   float64\n",
      " 6   ht       5732 non-null   float64\n",
      " 7   bmi      5732 non-null   float64\n",
      " 8   waist    5732 non-null   float64\n",
      " 9   sub      5732 non-null   float64\n",
      " 10  gh       5732 non-null   float64\n",
      " 11  albumin  5732 non-null   float64\n",
      " 12  bun      5732 non-null   float64\n",
      " 13  SCr      5732 non-null   float64\n",
      "dtypes: float64(10), int64(3), object(1)\n",
      "memory usage: 671.7+ KB\n"
     ]
    }
   ],
   "source": [
    "nhanes_subset.info()"
   ]
  },
  {
   "cell_type": "code",
   "execution_count": null,
   "metadata": {
    "id": "IUO0Q71zPzv0"
   },
   "outputs": [],
   "source": [
    "nhanes_subset['gh_cat'] = nhanes_subset['gh'].map(lambda x:int(2) if x>=6.5 else int(0) if x<5.7 else int(1) )"
   ]
  },
  {
   "cell_type": "code",
   "execution_count": null,
   "metadata": {
    "colab": {
     "base_uri": "https://localhost:8080/",
     "height": 935
    },
    "id": "HMfTzjOwQobw",
    "outputId": "26963f1b-a1ca-4faf-f0e6-dc1a3cd844cf"
   },
   "outputs": [
    {
     "data": {
      "text/html": [
       "<div>\n",
       "<style scoped>\n",
       "    .dataframe tbody tr th:only-of-type {\n",
       "        vertical-align: middle;\n",
       "    }\n",
       "\n",
       "    .dataframe tbody tr th {\n",
       "        vertical-align: top;\n",
       "    }\n",
       "\n",
       "    .dataframe thead th {\n",
       "        text-align: right;\n",
       "    }\n",
       "</style>\n",
       "<table border=\"1\" class=\"dataframe\">\n",
       "  <thead>\n",
       "    <tr style=\"text-align: right;\">\n",
       "      <th></th>\n",
       "      <th>seqn</th>\n",
       "      <th>sex</th>\n",
       "      <th>age</th>\n",
       "      <th>tx</th>\n",
       "      <th>dx</th>\n",
       "      <th>wt</th>\n",
       "      <th>ht</th>\n",
       "      <th>bmi</th>\n",
       "      <th>waist</th>\n",
       "      <th>sub</th>\n",
       "      <th>gh</th>\n",
       "      <th>albumin</th>\n",
       "      <th>bun</th>\n",
       "      <th>SCr</th>\n",
       "      <th>gh_cat</th>\n",
       "    </tr>\n",
       "  </thead>\n",
       "  <tbody>\n",
       "    <tr>\n",
       "      <th>0</th>\n",
       "      <td>51624</td>\n",
       "      <td>male</td>\n",
       "      <td>34.166667</td>\n",
       "      <td>0</td>\n",
       "      <td>0</td>\n",
       "      <td>87.4</td>\n",
       "      <td>164.7</td>\n",
       "      <td>32.22</td>\n",
       "      <td>100.4</td>\n",
       "      <td>24.9</td>\n",
       "      <td>5.2</td>\n",
       "      <td>4.8</td>\n",
       "      <td>6.0</td>\n",
       "      <td>0.94</td>\n",
       "      <td>0</td>\n",
       "    </tr>\n",
       "    <tr>\n",
       "      <th>1</th>\n",
       "      <td>51626</td>\n",
       "      <td>male</td>\n",
       "      <td>16.833333</td>\n",
       "      <td>0</td>\n",
       "      <td>0</td>\n",
       "      <td>72.3</td>\n",
       "      <td>181.3</td>\n",
       "      <td>22.00</td>\n",
       "      <td>74.7</td>\n",
       "      <td>10.5</td>\n",
       "      <td>5.7</td>\n",
       "      <td>4.6</td>\n",
       "      <td>9.0</td>\n",
       "      <td>0.89</td>\n",
       "      <td>1</td>\n",
       "    </tr>\n",
       "    <tr>\n",
       "      <th>2</th>\n",
       "      <td>51628</td>\n",
       "      <td>female</td>\n",
       "      <td>60.166667</td>\n",
       "      <td>1</td>\n",
       "      <td>1</td>\n",
       "      <td>116.8</td>\n",
       "      <td>166.0</td>\n",
       "      <td>42.39</td>\n",
       "      <td>118.2</td>\n",
       "      <td>35.6</td>\n",
       "      <td>6.0</td>\n",
       "      <td>3.9</td>\n",
       "      <td>10.0</td>\n",
       "      <td>1.11</td>\n",
       "      <td>1</td>\n",
       "    </tr>\n",
       "    <tr>\n",
       "      <th>3</th>\n",
       "      <td>51629</td>\n",
       "      <td>male</td>\n",
       "      <td>26.083333</td>\n",
       "      <td>0</td>\n",
       "      <td>0</td>\n",
       "      <td>97.6</td>\n",
       "      <td>173.0</td>\n",
       "      <td>32.61</td>\n",
       "      <td>103.7</td>\n",
       "      <td>23.2</td>\n",
       "      <td>5.1</td>\n",
       "      <td>4.2</td>\n",
       "      <td>8.0</td>\n",
       "      <td>0.80</td>\n",
       "      <td>0</td>\n",
       "    </tr>\n",
       "    <tr>\n",
       "      <th>4</th>\n",
       "      <td>51630</td>\n",
       "      <td>female</td>\n",
       "      <td>49.666667</td>\n",
       "      <td>0</td>\n",
       "      <td>0</td>\n",
       "      <td>86.7</td>\n",
       "      <td>168.4</td>\n",
       "      <td>30.57</td>\n",
       "      <td>107.8</td>\n",
       "      <td>28.0</td>\n",
       "      <td>5.3</td>\n",
       "      <td>4.3</td>\n",
       "      <td>13.0</td>\n",
       "      <td>0.79</td>\n",
       "      <td>0</td>\n",
       "    </tr>\n",
       "    <tr>\n",
       "      <th>5</th>\n",
       "      <td>51633</td>\n",
       "      <td>male</td>\n",
       "      <td>80.000000</td>\n",
       "      <td>0</td>\n",
       "      <td>1</td>\n",
       "      <td>79.1</td>\n",
       "      <td>174.3</td>\n",
       "      <td>26.04</td>\n",
       "      <td>91.1</td>\n",
       "      <td>15.2</td>\n",
       "      <td>5.4</td>\n",
       "      <td>4.3</td>\n",
       "      <td>16.0</td>\n",
       "      <td>0.83</td>\n",
       "      <td>0</td>\n",
       "    </tr>\n",
       "    <tr>\n",
       "      <th>6</th>\n",
       "      <td>51635</td>\n",
       "      <td>male</td>\n",
       "      <td>80.000000</td>\n",
       "      <td>1</td>\n",
       "      <td>1</td>\n",
       "      <td>89.6</td>\n",
       "      <td>180.1</td>\n",
       "      <td>27.62</td>\n",
       "      <td>113.7</td>\n",
       "      <td>26.2</td>\n",
       "      <td>6.8</td>\n",
       "      <td>4.3</td>\n",
       "      <td>16.0</td>\n",
       "      <td>0.90</td>\n",
       "      <td>2</td>\n",
       "    </tr>\n",
       "    <tr>\n",
       "      <th>7</th>\n",
       "      <td>51640</td>\n",
       "      <td>male</td>\n",
       "      <td>17.416667</td>\n",
       "      <td>0</td>\n",
       "      <td>0</td>\n",
       "      <td>74.7</td>\n",
       "      <td>169.6</td>\n",
       "      <td>25.97</td>\n",
       "      <td>86.0</td>\n",
       "      <td>15.0</td>\n",
       "      <td>5.1</td>\n",
       "      <td>4.7</td>\n",
       "      <td>11.0</td>\n",
       "      <td>1.00</td>\n",
       "      <td>0</td>\n",
       "    </tr>\n",
       "    <tr>\n",
       "      <th>8</th>\n",
       "      <td>51641</td>\n",
       "      <td>male</td>\n",
       "      <td>13.000000</td>\n",
       "      <td>0</td>\n",
       "      <td>0</td>\n",
       "      <td>40.6</td>\n",
       "      <td>156.4</td>\n",
       "      <td>16.60</td>\n",
       "      <td>63.6</td>\n",
       "      <td>7.6</td>\n",
       "      <td>5.6</td>\n",
       "      <td>4.3</td>\n",
       "      <td>10.0</td>\n",
       "      <td>0.46</td>\n",
       "      <td>0</td>\n",
       "    </tr>\n",
       "    <tr>\n",
       "      <th>11</th>\n",
       "      <td>51647</td>\n",
       "      <td>female</td>\n",
       "      <td>45.166667</td>\n",
       "      <td>0</td>\n",
       "      <td>0</td>\n",
       "      <td>75.7</td>\n",
       "      <td>166.7</td>\n",
       "      <td>27.24</td>\n",
       "      <td>84.8</td>\n",
       "      <td>7.7</td>\n",
       "      <td>5.1</td>\n",
       "      <td>4.4</td>\n",
       "      <td>6.0</td>\n",
       "      <td>0.86</td>\n",
       "      <td>0</td>\n",
       "    </tr>\n",
       "    <tr>\n",
       "      <th>12</th>\n",
       "      <td>51648</td>\n",
       "      <td>male</td>\n",
       "      <td>28.250000</td>\n",
       "      <td>0</td>\n",
       "      <td>0</td>\n",
       "      <td>79.4</td>\n",
       "      <td>163.4</td>\n",
       "      <td>29.74</td>\n",
       "      <td>94.5</td>\n",
       "      <td>16.0</td>\n",
       "      <td>5.9</td>\n",
       "      <td>4.5</td>\n",
       "      <td>11.0</td>\n",
       "      <td>1.04</td>\n",
       "      <td>1</td>\n",
       "    </tr>\n",
       "    <tr>\n",
       "      <th>14</th>\n",
       "      <td>51653</td>\n",
       "      <td>male</td>\n",
       "      <td>45.000000</td>\n",
       "      <td>0</td>\n",
       "      <td>0</td>\n",
       "      <td>102.4</td>\n",
       "      <td>187.6</td>\n",
       "      <td>29.10</td>\n",
       "      <td>106.6</td>\n",
       "      <td>20.0</td>\n",
       "      <td>5.4</td>\n",
       "      <td>4.7</td>\n",
       "      <td>16.0</td>\n",
       "      <td>1.32</td>\n",
       "      <td>0</td>\n",
       "    </tr>\n",
       "    <tr>\n",
       "      <th>15</th>\n",
       "      <td>51654</td>\n",
       "      <td>male</td>\n",
       "      <td>66.416667</td>\n",
       "      <td>0</td>\n",
       "      <td>0</td>\n",
       "      <td>68.0</td>\n",
       "      <td>169.5</td>\n",
       "      <td>23.67</td>\n",
       "      <td>89.2</td>\n",
       "      <td>12.5</td>\n",
       "      <td>5.8</td>\n",
       "      <td>3.9</td>\n",
       "      <td>20.0</td>\n",
       "      <td>1.59</td>\n",
       "      <td>1</td>\n",
       "    </tr>\n",
       "    <tr>\n",
       "      <th>16</th>\n",
       "      <td>51655</td>\n",
       "      <td>female</td>\n",
       "      <td>49.500000</td>\n",
       "      <td>0</td>\n",
       "      <td>0</td>\n",
       "      <td>76.5</td>\n",
       "      <td>164.1</td>\n",
       "      <td>28.41</td>\n",
       "      <td>92.6</td>\n",
       "      <td>16.2</td>\n",
       "      <td>5.7</td>\n",
       "      <td>4.3</td>\n",
       "      <td>6.0</td>\n",
       "      <td>0.74</td>\n",
       "      <td>1</td>\n",
       "    </tr>\n",
       "    <tr>\n",
       "      <th>17</th>\n",
       "      <td>51656</td>\n",
       "      <td>male</td>\n",
       "      <td>58.916667</td>\n",
       "      <td>0</td>\n",
       "      <td>1</td>\n",
       "      <td>78.4</td>\n",
       "      <td>181.9</td>\n",
       "      <td>23.69</td>\n",
       "      <td>92.5</td>\n",
       "      <td>19.0</td>\n",
       "      <td>6.0</td>\n",
       "      <td>4.4</td>\n",
       "      <td>15.0</td>\n",
       "      <td>1.13</td>\n",
       "      <td>1</td>\n",
       "    </tr>\n",
       "    <tr>\n",
       "      <th>18</th>\n",
       "      <td>51657</td>\n",
       "      <td>male</td>\n",
       "      <td>54.500000</td>\n",
       "      <td>0</td>\n",
       "      <td>0</td>\n",
       "      <td>74.7</td>\n",
       "      <td>169.4</td>\n",
       "      <td>26.03</td>\n",
       "      <td>96.2</td>\n",
       "      <td>13.7</td>\n",
       "      <td>5.2</td>\n",
       "      <td>4.1</td>\n",
       "      <td>16.0</td>\n",
       "      <td>1.55</td>\n",
       "      <td>0</td>\n",
       "    </tr>\n",
       "    <tr>\n",
       "      <th>19</th>\n",
       "      <td>51658</td>\n",
       "      <td>female</td>\n",
       "      <td>26.750000</td>\n",
       "      <td>0</td>\n",
       "      <td>0</td>\n",
       "      <td>103.9</td>\n",
       "      <td>162.7</td>\n",
       "      <td>39.25</td>\n",
       "      <td>121.2</td>\n",
       "      <td>20.2</td>\n",
       "      <td>5.3</td>\n",
       "      <td>3.8</td>\n",
       "      <td>11.0</td>\n",
       "      <td>0.61</td>\n",
       "      <td>0</td>\n",
       "    </tr>\n",
       "    <tr>\n",
       "      <th>21</th>\n",
       "      <td>51661</td>\n",
       "      <td>female</td>\n",
       "      <td>60.166667</td>\n",
       "      <td>0</td>\n",
       "      <td>0</td>\n",
       "      <td>73.5</td>\n",
       "      <td>151.4</td>\n",
       "      <td>32.07</td>\n",
       "      <td>100.6</td>\n",
       "      <td>29.1</td>\n",
       "      <td>5.9</td>\n",
       "      <td>4.0</td>\n",
       "      <td>14.0</td>\n",
       "      <td>0.75</td>\n",
       "      <td>1</td>\n",
       "    </tr>\n",
       "    <tr>\n",
       "      <th>22</th>\n",
       "      <td>51662</td>\n",
       "      <td>female</td>\n",
       "      <td>44.166667</td>\n",
       "      <td>0</td>\n",
       "      <td>0</td>\n",
       "      <td>71.9</td>\n",
       "      <td>169.4</td>\n",
       "      <td>25.06</td>\n",
       "      <td>82.3</td>\n",
       "      <td>18.7</td>\n",
       "      <td>5.2</td>\n",
       "      <td>4.3</td>\n",
       "      <td>10.0</td>\n",
       "      <td>0.82</td>\n",
       "      <td>0</td>\n",
       "    </tr>\n",
       "    <tr>\n",
       "      <th>23</th>\n",
       "      <td>51663</td>\n",
       "      <td>female</td>\n",
       "      <td>18.833333</td>\n",
       "      <td>0</td>\n",
       "      <td>0</td>\n",
       "      <td>62.6</td>\n",
       "      <td>158.8</td>\n",
       "      <td>24.82</td>\n",
       "      <td>79.5</td>\n",
       "      <td>17.0</td>\n",
       "      <td>5.0</td>\n",
       "      <td>4.3</td>\n",
       "      <td>11.0</td>\n",
       "      <td>0.58</td>\n",
       "      <td>0</td>\n",
       "    </tr>\n",
       "    <tr>\n",
       "      <th>24</th>\n",
       "      <td>51664</td>\n",
       "      <td>female</td>\n",
       "      <td>53.750000</td>\n",
       "      <td>0</td>\n",
       "      <td>0</td>\n",
       "      <td>67.9</td>\n",
       "      <td>156.8</td>\n",
       "      <td>27.62</td>\n",
       "      <td>95.1</td>\n",
       "      <td>17.6</td>\n",
       "      <td>6.0</td>\n",
       "      <td>4.8</td>\n",
       "      <td>21.0</td>\n",
       "      <td>0.73</td>\n",
       "      <td>1</td>\n",
       "    </tr>\n",
       "    <tr>\n",
       "      <th>25</th>\n",
       "      <td>51666</td>\n",
       "      <td>female</td>\n",
       "      <td>58.416667</td>\n",
       "      <td>0</td>\n",
       "      <td>0</td>\n",
       "      <td>57.5</td>\n",
       "      <td>148.1</td>\n",
       "      <td>26.22</td>\n",
       "      <td>86.0</td>\n",
       "      <td>15.3</td>\n",
       "      <td>6.0</td>\n",
       "      <td>4.0</td>\n",
       "      <td>15.0</td>\n",
       "      <td>0.77</td>\n",
       "      <td>1</td>\n",
       "    </tr>\n",
       "    <tr>\n",
       "      <th>26</th>\n",
       "      <td>51667</td>\n",
       "      <td>male</td>\n",
       "      <td>50.250000</td>\n",
       "      <td>0</td>\n",
       "      <td>0</td>\n",
       "      <td>84.1</td>\n",
       "      <td>177.8</td>\n",
       "      <td>26.60</td>\n",
       "      <td>96.0</td>\n",
       "      <td>19.0</td>\n",
       "      <td>5.8</td>\n",
       "      <td>4.9</td>\n",
       "      <td>22.0</td>\n",
       "      <td>1.12</td>\n",
       "      <td>1</td>\n",
       "    </tr>\n",
       "    <tr>\n",
       "      <th>27</th>\n",
       "      <td>51668</td>\n",
       "      <td>female</td>\n",
       "      <td>70.166667</td>\n",
       "      <td>1</td>\n",
       "      <td>1</td>\n",
       "      <td>101.4</td>\n",
       "      <td>159.0</td>\n",
       "      <td>40.11</td>\n",
       "      <td>134.5</td>\n",
       "      <td>26.2</td>\n",
       "      <td>7.7</td>\n",
       "      <td>3.7</td>\n",
       "      <td>17.0</td>\n",
       "      <td>1.11</td>\n",
       "      <td>2</td>\n",
       "    </tr>\n",
       "    <tr>\n",
       "      <th>28</th>\n",
       "      <td>51669</td>\n",
       "      <td>female</td>\n",
       "      <td>65.083333</td>\n",
       "      <td>0</td>\n",
       "      <td>1</td>\n",
       "      <td>73.1</td>\n",
       "      <td>162.0</td>\n",
       "      <td>27.85</td>\n",
       "      <td>101.8</td>\n",
       "      <td>29.4</td>\n",
       "      <td>6.1</td>\n",
       "      <td>4.3</td>\n",
       "      <td>14.0</td>\n",
       "      <td>0.63</td>\n",
       "      <td>1</td>\n",
       "    </tr>\n",
       "    <tr>\n",
       "      <th>29</th>\n",
       "      <td>51670</td>\n",
       "      <td>male</td>\n",
       "      <td>22.416667</td>\n",
       "      <td>0</td>\n",
       "      <td>0</td>\n",
       "      <td>96.5</td>\n",
       "      <td>185.4</td>\n",
       "      <td>28.07</td>\n",
       "      <td>94.5</td>\n",
       "      <td>18.1</td>\n",
       "      <td>5.1</td>\n",
       "      <td>4.6</td>\n",
       "      <td>9.0</td>\n",
       "      <td>1.04</td>\n",
       "      <td>0</td>\n",
       "    </tr>\n",
       "    <tr>\n",
       "      <th>31</th>\n",
       "      <td>51673</td>\n",
       "      <td>female</td>\n",
       "      <td>30.083333</td>\n",
       "      <td>0</td>\n",
       "      <td>0</td>\n",
       "      <td>51.2</td>\n",
       "      <td>164.1</td>\n",
       "      <td>19.01</td>\n",
       "      <td>75.8</td>\n",
       "      <td>10.6</td>\n",
       "      <td>5.0</td>\n",
       "      <td>4.1</td>\n",
       "      <td>9.0</td>\n",
       "      <td>0.73</td>\n",
       "      <td>0</td>\n",
       "    </tr>\n",
       "    <tr>\n",
       "      <th>32</th>\n",
       "      <td>51675</td>\n",
       "      <td>female</td>\n",
       "      <td>80.000000</td>\n",
       "      <td>0</td>\n",
       "      <td>0</td>\n",
       "      <td>49.0</td>\n",
       "      <td>158.8</td>\n",
       "      <td>19.43</td>\n",
       "      <td>74.7</td>\n",
       "      <td>16.6</td>\n",
       "      <td>5.4</td>\n",
       "      <td>4.4</td>\n",
       "      <td>14.0</td>\n",
       "      <td>1.32</td>\n",
       "      <td>0</td>\n",
       "    </tr>\n",
       "    <tr>\n",
       "      <th>33</th>\n",
       "      <td>51677</td>\n",
       "      <td>male</td>\n",
       "      <td>33.750000</td>\n",
       "      <td>0</td>\n",
       "      <td>0</td>\n",
       "      <td>93.8</td>\n",
       "      <td>181.3</td>\n",
       "      <td>28.54</td>\n",
       "      <td>103.0</td>\n",
       "      <td>13.6</td>\n",
       "      <td>5.1</td>\n",
       "      <td>4.3</td>\n",
       "      <td>14.0</td>\n",
       "      <td>0.89</td>\n",
       "      <td>0</td>\n",
       "    </tr>\n",
       "    <tr>\n",
       "      <th>34</th>\n",
       "      <td>51678</td>\n",
       "      <td>male</td>\n",
       "      <td>60.166667</td>\n",
       "      <td>0</td>\n",
       "      <td>1</td>\n",
       "      <td>74.6</td>\n",
       "      <td>169.9</td>\n",
       "      <td>25.84</td>\n",
       "      <td>102.7</td>\n",
       "      <td>18.0</td>\n",
       "      <td>5.5</td>\n",
       "      <td>4.6</td>\n",
       "      <td>14.0</td>\n",
       "      <td>0.90</td>\n",
       "      <td>0</td>\n",
       "    </tr>\n",
       "  </tbody>\n",
       "</table>\n",
       "</div>"
      ],
      "text/plain": [
       "     seqn     sex        age  tx  dx  ...   gh  albumin   bun   SCr  gh_cat\n",
       "0   51624    male  34.166667   0   0  ...  5.2      4.8   6.0  0.94       0\n",
       "1   51626    male  16.833333   0   0  ...  5.7      4.6   9.0  0.89       1\n",
       "2   51628  female  60.166667   1   1  ...  6.0      3.9  10.0  1.11       1\n",
       "3   51629    male  26.083333   0   0  ...  5.1      4.2   8.0  0.80       0\n",
       "4   51630  female  49.666667   0   0  ...  5.3      4.3  13.0  0.79       0\n",
       "5   51633    male  80.000000   0   1  ...  5.4      4.3  16.0  0.83       0\n",
       "6   51635    male  80.000000   1   1  ...  6.8      4.3  16.0  0.90       2\n",
       "7   51640    male  17.416667   0   0  ...  5.1      4.7  11.0  1.00       0\n",
       "8   51641    male  13.000000   0   0  ...  5.6      4.3  10.0  0.46       0\n",
       "11  51647  female  45.166667   0   0  ...  5.1      4.4   6.0  0.86       0\n",
       "12  51648    male  28.250000   0   0  ...  5.9      4.5  11.0  1.04       1\n",
       "14  51653    male  45.000000   0   0  ...  5.4      4.7  16.0  1.32       0\n",
       "15  51654    male  66.416667   0   0  ...  5.8      3.9  20.0  1.59       1\n",
       "16  51655  female  49.500000   0   0  ...  5.7      4.3   6.0  0.74       1\n",
       "17  51656    male  58.916667   0   1  ...  6.0      4.4  15.0  1.13       1\n",
       "18  51657    male  54.500000   0   0  ...  5.2      4.1  16.0  1.55       0\n",
       "19  51658  female  26.750000   0   0  ...  5.3      3.8  11.0  0.61       0\n",
       "21  51661  female  60.166667   0   0  ...  5.9      4.0  14.0  0.75       1\n",
       "22  51662  female  44.166667   0   0  ...  5.2      4.3  10.0  0.82       0\n",
       "23  51663  female  18.833333   0   0  ...  5.0      4.3  11.0  0.58       0\n",
       "24  51664  female  53.750000   0   0  ...  6.0      4.8  21.0  0.73       1\n",
       "25  51666  female  58.416667   0   0  ...  6.0      4.0  15.0  0.77       1\n",
       "26  51667    male  50.250000   0   0  ...  5.8      4.9  22.0  1.12       1\n",
       "27  51668  female  70.166667   1   1  ...  7.7      3.7  17.0  1.11       2\n",
       "28  51669  female  65.083333   0   1  ...  6.1      4.3  14.0  0.63       1\n",
       "29  51670    male  22.416667   0   0  ...  5.1      4.6   9.0  1.04       0\n",
       "31  51673  female  30.083333   0   0  ...  5.0      4.1   9.0  0.73       0\n",
       "32  51675  female  80.000000   0   0  ...  5.4      4.4  14.0  1.32       0\n",
       "33  51677    male  33.750000   0   0  ...  5.1      4.3  14.0  0.89       0\n",
       "34  51678    male  60.166667   0   1  ...  5.5      4.6  14.0  0.90       0\n",
       "\n",
       "[30 rows x 15 columns]"
      ]
     },
     "execution_count": 14,
     "metadata": {
      "tags": []
     },
     "output_type": "execute_result"
    }
   ],
   "source": [
    "nhanes_subset.head(30)"
   ]
  },
  {
   "cell_type": "code",
   "execution_count": null,
   "metadata": {
    "colab": {
     "base_uri": "https://localhost:8080/",
     "height": 151
    },
    "id": "-FZ6bWiySEfU",
    "outputId": "d00d75ee-4fee-42d1-899f-823739e3e068"
   },
   "outputs": [
    {
     "data": {
      "text/plain": [
       "['[20 - 30)',\n",
       " '[30 - 40)',\n",
       " '[40 - 50)',\n",
       " '[50 - 60)',\n",
       " '[60 - 70)',\n",
       " '[70 - 80)',\n",
       " '[80 - 90)',\n",
       " '[90 - 100)']"
      ]
     },
     "execution_count": 15,
     "metadata": {
      "tags": []
     },
     "output_type": "execute_result"
    }
   ],
   "source": [
    "age_ranges = [\"[{0} - {1})\".format(age, age + 10) for age in range(20, 100, 10)]\n",
    "age_ranges"
   ]
  },
  {
   "cell_type": "code",
   "execution_count": null,
   "metadata": {
    "colab": {
     "base_uri": "https://localhost:8080/",
     "height": 34
    },
    "id": "hMmXeIWXSpLi",
    "outputId": "f4b64b52-3369-4ff0-b2fa-3f02ad446d41"
   },
   "outputs": [
    {
     "data": {
      "text/plain": [
       "8"
      ]
     },
     "execution_count": 16,
     "metadata": {
      "tags": []
     },
     "output_type": "execute_result"
    }
   ],
   "source": [
    "count_unique_age_ranges = len(age_ranges)\n",
    "count_unique_age_ranges"
   ]
  },
  {
   "cell_type": "code",
   "execution_count": null,
   "metadata": {
    "id": "_yUrOmvmSVUu"
   },
   "outputs": [],
   "source": [
    "nhanes_subset['age_range'] = pd.cut(x=nhanes_subset['age'], bins=count_unique_age_ranges, labels=age_ranges)"
   ]
  },
  {
   "cell_type": "code",
   "execution_count": null,
   "metadata": {
    "colab": {
     "base_uri": "https://localhost:8080/",
     "height": 195
    },
    "id": "8I0MqSzYSs6f",
    "outputId": "2619801d-a41b-4250-9d8f-b2ffb20470c4"
   },
   "outputs": [
    {
     "data": {
      "text/html": [
       "<div>\n",
       "<style scoped>\n",
       "    .dataframe tbody tr th:only-of-type {\n",
       "        vertical-align: middle;\n",
       "    }\n",
       "\n",
       "    .dataframe tbody tr th {\n",
       "        vertical-align: top;\n",
       "    }\n",
       "\n",
       "    .dataframe thead th {\n",
       "        text-align: right;\n",
       "    }\n",
       "</style>\n",
       "<table border=\"1\" class=\"dataframe\">\n",
       "  <thead>\n",
       "    <tr style=\"text-align: right;\">\n",
       "      <th></th>\n",
       "      <th>seqn</th>\n",
       "      <th>sex</th>\n",
       "      <th>age</th>\n",
       "      <th>tx</th>\n",
       "      <th>dx</th>\n",
       "      <th>wt</th>\n",
       "      <th>ht</th>\n",
       "      <th>bmi</th>\n",
       "      <th>waist</th>\n",
       "      <th>sub</th>\n",
       "      <th>gh</th>\n",
       "      <th>albumin</th>\n",
       "      <th>bun</th>\n",
       "      <th>SCr</th>\n",
       "      <th>gh_cat</th>\n",
       "      <th>age_range</th>\n",
       "    </tr>\n",
       "  </thead>\n",
       "  <tbody>\n",
       "    <tr>\n",
       "      <th>0</th>\n",
       "      <td>51624</td>\n",
       "      <td>male</td>\n",
       "      <td>34.166667</td>\n",
       "      <td>0</td>\n",
       "      <td>0</td>\n",
       "      <td>87.4</td>\n",
       "      <td>164.7</td>\n",
       "      <td>32.22</td>\n",
       "      <td>100.4</td>\n",
       "      <td>24.9</td>\n",
       "      <td>5.2</td>\n",
       "      <td>4.8</td>\n",
       "      <td>6.0</td>\n",
       "      <td>0.94</td>\n",
       "      <td>0</td>\n",
       "      <td>[40 - 50)</td>\n",
       "    </tr>\n",
       "    <tr>\n",
       "      <th>1</th>\n",
       "      <td>51626</td>\n",
       "      <td>male</td>\n",
       "      <td>16.833333</td>\n",
       "      <td>0</td>\n",
       "      <td>0</td>\n",
       "      <td>72.3</td>\n",
       "      <td>181.3</td>\n",
       "      <td>22.00</td>\n",
       "      <td>74.7</td>\n",
       "      <td>10.5</td>\n",
       "      <td>5.7</td>\n",
       "      <td>4.6</td>\n",
       "      <td>9.0</td>\n",
       "      <td>0.89</td>\n",
       "      <td>1</td>\n",
       "      <td>[20 - 30)</td>\n",
       "    </tr>\n",
       "    <tr>\n",
       "      <th>2</th>\n",
       "      <td>51628</td>\n",
       "      <td>female</td>\n",
       "      <td>60.166667</td>\n",
       "      <td>1</td>\n",
       "      <td>1</td>\n",
       "      <td>116.8</td>\n",
       "      <td>166.0</td>\n",
       "      <td>42.39</td>\n",
       "      <td>118.2</td>\n",
       "      <td>35.6</td>\n",
       "      <td>6.0</td>\n",
       "      <td>3.9</td>\n",
       "      <td>10.0</td>\n",
       "      <td>1.11</td>\n",
       "      <td>1</td>\n",
       "      <td>[70 - 80)</td>\n",
       "    </tr>\n",
       "    <tr>\n",
       "      <th>3</th>\n",
       "      <td>51629</td>\n",
       "      <td>male</td>\n",
       "      <td>26.083333</td>\n",
       "      <td>0</td>\n",
       "      <td>0</td>\n",
       "      <td>97.6</td>\n",
       "      <td>173.0</td>\n",
       "      <td>32.61</td>\n",
       "      <td>103.7</td>\n",
       "      <td>23.2</td>\n",
       "      <td>5.1</td>\n",
       "      <td>4.2</td>\n",
       "      <td>8.0</td>\n",
       "      <td>0.80</td>\n",
       "      <td>0</td>\n",
       "      <td>[30 - 40)</td>\n",
       "    </tr>\n",
       "    <tr>\n",
       "      <th>4</th>\n",
       "      <td>51630</td>\n",
       "      <td>female</td>\n",
       "      <td>49.666667</td>\n",
       "      <td>0</td>\n",
       "      <td>0</td>\n",
       "      <td>86.7</td>\n",
       "      <td>168.4</td>\n",
       "      <td>30.57</td>\n",
       "      <td>107.8</td>\n",
       "      <td>28.0</td>\n",
       "      <td>5.3</td>\n",
       "      <td>4.3</td>\n",
       "      <td>13.0</td>\n",
       "      <td>0.79</td>\n",
       "      <td>0</td>\n",
       "      <td>[60 - 70)</td>\n",
       "    </tr>\n",
       "  </tbody>\n",
       "</table>\n",
       "</div>"
      ],
      "text/plain": [
       "    seqn     sex        age  tx  dx  ...  albumin   bun   SCr  gh_cat  age_range\n",
       "0  51624    male  34.166667   0   0  ...      4.8   6.0  0.94       0  [40 - 50)\n",
       "1  51626    male  16.833333   0   0  ...      4.6   9.0  0.89       1  [20 - 30)\n",
       "2  51628  female  60.166667   1   1  ...      3.9  10.0  1.11       1  [70 - 80)\n",
       "3  51629    male  26.083333   0   0  ...      4.2   8.0  0.80       0  [30 - 40)\n",
       "4  51630  female  49.666667   0   0  ...      4.3  13.0  0.79       0  [60 - 70)\n",
       "\n",
       "[5 rows x 16 columns]"
      ]
     },
     "execution_count": 18,
     "metadata": {
      "tags": []
     },
     "output_type": "execute_result"
    }
   ],
   "source": [
    "nhanes_subset.head()"
   ]
  },
  {
   "cell_type": "code",
   "execution_count": null,
   "metadata": {
    "colab": {
     "base_uri": "https://localhost:8080/",
     "height": 284
    },
    "id": "pLGRfA87Lyrk",
    "outputId": "ed09d9f2-42b2-49d2-9c8c-6ac4d2af31a8"
   },
   "outputs": [
    {
     "data": {
      "text/html": [
       "<div>\n",
       "<style scoped>\n",
       "    .dataframe tbody tr th:only-of-type {\n",
       "        vertical-align: middle;\n",
       "    }\n",
       "\n",
       "    .dataframe tbody tr th {\n",
       "        vertical-align: top;\n",
       "    }\n",
       "\n",
       "    .dataframe thead th {\n",
       "        text-align: right;\n",
       "    }\n",
       "</style>\n",
       "<table border=\"1\" class=\"dataframe\">\n",
       "  <thead>\n",
       "    <tr style=\"text-align: right;\">\n",
       "      <th></th>\n",
       "      <th>seqn</th>\n",
       "      <th>age</th>\n",
       "      <th>tx</th>\n",
       "      <th>dx</th>\n",
       "      <th>wt</th>\n",
       "      <th>ht</th>\n",
       "      <th>bmi</th>\n",
       "      <th>waist</th>\n",
       "      <th>sub</th>\n",
       "      <th>gh</th>\n",
       "      <th>albumin</th>\n",
       "      <th>bun</th>\n",
       "      <th>SCr</th>\n",
       "      <th>gh_cat</th>\n",
       "    </tr>\n",
       "  </thead>\n",
       "  <tbody>\n",
       "    <tr>\n",
       "      <th>count</th>\n",
       "      <td>5732.000000</td>\n",
       "      <td>5732.000000</td>\n",
       "      <td>5732.000000</td>\n",
       "      <td>5732.000000</td>\n",
       "      <td>5732.000000</td>\n",
       "      <td>5732.000000</td>\n",
       "      <td>5732.000000</td>\n",
       "      <td>5732.000000</td>\n",
       "      <td>5732.000000</td>\n",
       "      <td>5732.000000</td>\n",
       "      <td>5732.000000</td>\n",
       "      <td>5732.000000</td>\n",
       "      <td>5732.000000</td>\n",
       "      <td>5732.000000</td>\n",
       "    </tr>\n",
       "    <tr>\n",
       "      <th>mean</th>\n",
       "      <td>56882.319086</td>\n",
       "      <td>43.616626</td>\n",
       "      <td>0.073796</td>\n",
       "      <td>0.113224</td>\n",
       "      <td>75.873186</td>\n",
       "      <td>167.071267</td>\n",
       "      <td>27.074956</td>\n",
       "      <td>93.571092</td>\n",
       "      <td>19.926396</td>\n",
       "      <td>5.609037</td>\n",
       "      <td>4.300314</td>\n",
       "      <td>12.859909</td>\n",
       "      <td>0.870876</td>\n",
       "      <td>0.393754</td>\n",
       "    </tr>\n",
       "    <tr>\n",
       "      <th>std</th>\n",
       "      <td>3052.766385</td>\n",
       "      <td>20.915520</td>\n",
       "      <td>0.261462</td>\n",
       "      <td>0.316894</td>\n",
       "      <td>18.535158</td>\n",
       "      <td>10.235240</td>\n",
       "      <td>5.735909</td>\n",
       "      <td>15.207169</td>\n",
       "      <td>8.344429</td>\n",
       "      <td>0.871791</td>\n",
       "      <td>0.317934</td>\n",
       "      <td>5.579434</td>\n",
       "      <td>0.424300</td>\n",
       "      <td>0.621307</td>\n",
       "    </tr>\n",
       "    <tr>\n",
       "      <th>min</th>\n",
       "      <td>51624.000000</td>\n",
       "      <td>12.000000</td>\n",
       "      <td>0.000000</td>\n",
       "      <td>0.000000</td>\n",
       "      <td>28.000000</td>\n",
       "      <td>135.400000</td>\n",
       "      <td>13.180000</td>\n",
       "      <td>52.000000</td>\n",
       "      <td>3.800000</td>\n",
       "      <td>4.000000</td>\n",
       "      <td>2.500000</td>\n",
       "      <td>1.000000</td>\n",
       "      <td>0.140000</td>\n",
       "      <td>0.000000</td>\n",
       "    </tr>\n",
       "    <tr>\n",
       "      <th>25%</th>\n",
       "      <td>54249.500000</td>\n",
       "      <td>24.000000</td>\n",
       "      <td>0.000000</td>\n",
       "      <td>0.000000</td>\n",
       "      <td>62.700000</td>\n",
       "      <td>159.700000</td>\n",
       "      <td>22.917500</td>\n",
       "      <td>82.200000</td>\n",
       "      <td>13.000000</td>\n",
       "      <td>5.200000</td>\n",
       "      <td>4.100000</td>\n",
       "      <td>9.000000</td>\n",
       "      <td>0.700000</td>\n",
       "      <td>0.000000</td>\n",
       "    </tr>\n",
       "    <tr>\n",
       "      <th>50%</th>\n",
       "      <td>56878.500000</td>\n",
       "      <td>43.000000</td>\n",
       "      <td>0.000000</td>\n",
       "      <td>0.000000</td>\n",
       "      <td>74.000000</td>\n",
       "      <td>166.600000</td>\n",
       "      <td>26.560000</td>\n",
       "      <td>93.200000</td>\n",
       "      <td>19.250000</td>\n",
       "      <td>5.400000</td>\n",
       "      <td>4.300000</td>\n",
       "      <td>12.000000</td>\n",
       "      <td>0.820000</td>\n",
       "      <td>0.000000</td>\n",
       "    </tr>\n",
       "    <tr>\n",
       "      <th>75%</th>\n",
       "      <td>59549.250000</td>\n",
       "      <td>61.083333</td>\n",
       "      <td>0.000000</td>\n",
       "      <td>0.000000</td>\n",
       "      <td>87.100000</td>\n",
       "      <td>174.500000</td>\n",
       "      <td>30.332500</td>\n",
       "      <td>103.500000</td>\n",
       "      <td>26.000000</td>\n",
       "      <td>5.800000</td>\n",
       "      <td>4.500000</td>\n",
       "      <td>15.000000</td>\n",
       "      <td>0.970000</td>\n",
       "      <td>1.000000</td>\n",
       "    </tr>\n",
       "    <tr>\n",
       "      <th>max</th>\n",
       "      <td>62160.000000</td>\n",
       "      <td>80.000000</td>\n",
       "      <td>1.000000</td>\n",
       "      <td>1.000000</td>\n",
       "      <td>176.600000</td>\n",
       "      <td>202.700000</td>\n",
       "      <td>55.040000</td>\n",
       "      <td>160.600000</td>\n",
       "      <td>40.400000</td>\n",
       "      <td>15.500000</td>\n",
       "      <td>5.300000</td>\n",
       "      <td>90.000000</td>\n",
       "      <td>15.660000</td>\n",
       "      <td>2.000000</td>\n",
       "    </tr>\n",
       "  </tbody>\n",
       "</table>\n",
       "</div>"
      ],
      "text/plain": [
       "               seqn          age  ...          SCr       gh_cat\n",
       "count   5732.000000  5732.000000  ...  5732.000000  5732.000000\n",
       "mean   56882.319086    43.616626  ...     0.870876     0.393754\n",
       "std     3052.766385    20.915520  ...     0.424300     0.621307\n",
       "min    51624.000000    12.000000  ...     0.140000     0.000000\n",
       "25%    54249.500000    24.000000  ...     0.700000     0.000000\n",
       "50%    56878.500000    43.000000  ...     0.820000     0.000000\n",
       "75%    59549.250000    61.083333  ...     0.970000     1.000000\n",
       "max    62160.000000    80.000000  ...    15.660000     2.000000\n",
       "\n",
       "[8 rows x 14 columns]"
      ]
     },
     "execution_count": 23,
     "metadata": {
      "tags": []
     },
     "output_type": "execute_result"
    }
   ],
   "source": [
    "nhanes_subset.describe()"
   ]
  },
  {
   "cell_type": "markdown",
   "metadata": {
    "id": "f681RM8vAROF"
   },
   "source": [
    "Exploratory Data Analysis to learn about the data and model training"
   ]
  },
  {
   "cell_type": "code",
   "execution_count": null,
   "metadata": {
    "colab": {
     "base_uri": "https://localhost:8080/",
     "height": 67
    },
    "id": "ZYaInj4mTPmd",
    "outputId": "a7f62305-70e3-416f-b033-efd241969d44"
   },
   "outputs": [
    {
     "data": {
      "text/plain": [
       "male      2898\n",
       "female    2834\n",
       "Name: sex, dtype: int64"
      ]
     },
     "execution_count": 19,
     "metadata": {
      "tags": []
     },
     "output_type": "execute_result"
    }
   ],
   "source": [
    "nhanes_subset['sex'].value_counts()"
   ]
  },
  {
   "cell_type": "code",
   "execution_count": null,
   "metadata": {
    "colab": {
     "base_uri": "https://localhost:8080/",
     "height": 338
    },
    "id": "Ah3oG3y1EEZE",
    "outputId": "d1322126-db2d-4e7f-c60a-86dd07ec577e"
   },
   "outputs": [
    {
     "data": {
      "text/plain": [
       "<matplotlib.axes._subplots.AxesSubplot at 0x7f82c30908d0>"
      ]
     },
     "execution_count": 24,
     "metadata": {
      "tags": []
     },
     "output_type": "execute_result"
    },
    {
     "data": {
      "image/png": "[encoded data removed]",
      "text/plain": [
       "<Figure size 432x288 with 1 Axes>"
      ]
     },
     "metadata": {
      "needs_background": "light",
      "tags": []
     },
     "output_type": "display_data"
    }
   ],
   "source": [
    "nhanes_subset.groupby('sex').count().plot.bar()"
   ]
  },
  {
   "cell_type": "code",
   "execution_count": null,
   "metadata": {
    "colab": {
     "base_uri": "https://localhost:8080/",
     "height": 300
    },
    "id": "-c3fvV1WA_aX",
    "outputId": "0d9778ae-2450-427e-c475-14795db9bd73"
   },
   "outputs": [
    {
     "data": {
      "text/plain": [
       "<matplotlib.axes._subplots.AxesSubplot at 0x7fca8c53ff98>"
      ]
     },
     "execution_count": 67,
     "metadata": {
      "tags": []
     },
     "output_type": "execute_result"
    },
    {
     "data": {
      "image/png": "[encoded data removed]",
      "text/plain": [
       "<Figure size 432x288 with 1 Axes>"
      ]
     },
     "metadata": {
      "needs_background": "light",
      "tags": []
     },
     "output_type": "display_data"
    }
   ],
   "source": [
    "nhanes_subset.groupby('sex').count().plot.hist()"
   ]
  },
  {
   "cell_type": "code",
   "execution_count": null,
   "metadata": {
    "colab": {
     "base_uri": "https://localhost:8080/",
     "height": 168
    },
    "id": "lw3IqadDWc5y",
    "outputId": "0ede2fc9-7de7-45df-cfa9-eb61d7ff208b"
   },
   "outputs": [
    {
     "data": {
      "text/plain": [
       "[20 - 30)     1143\n",
       "[90 - 100)     729\n",
       "[50 - 60)      716\n",
       "[60 - 70)      673\n",
       "[30 - 40)      666\n",
       "[70 - 80)      659\n",
       "[40 - 50)      618\n",
       "[80 - 90)      528\n",
       "Name: age_range, dtype: int64"
      ]
     },
     "execution_count": 25,
     "metadata": {
      "tags": []
     },
     "output_type": "execute_result"
    }
   ],
   "source": [
    "nhanes_subset['age_range'].value_counts()"
   ]
  },
  {
   "cell_type": "code",
   "execution_count": null,
   "metadata": {
    "colab": {
     "base_uri": "https://localhost:8080/",
     "height": 340
    },
    "id": "Zq2AZJ42S1D6",
    "outputId": "b32df00b-37ce-47f1-d2ba-42de57718ecd"
   },
   "outputs": [
    {
     "data": {
      "text/plain": [
       "<matplotlib.axes._subplots.AxesSubplot at 0x7f82c0a7d588>"
      ]
     },
     "execution_count": 26,
     "metadata": {
      "tags": []
     },
     "output_type": "execute_result"
    },
    {
     "data": {
      "image/png": "[encoded data removed]",
      "text/plain": [
       "<Figure size 432x288 with 1 Axes>"
      ]
     },
     "metadata": {
      "needs_background": "light",
      "tags": []
     },
     "output_type": "display_data"
    }
   ],
   "source": [
    "nhanes_subset.groupby('age_range').count().plot.bar()"
   ]
  },
  {
   "cell_type": "code",
   "execution_count": null,
   "metadata": {
    "colab": {
     "base_uri": "https://localhost:8080/",
     "height": 84
    },
    "id": "g6ckygdzWZn7",
    "outputId": "223f140b-bcc2-474f-c1d9-351b42bc6d7d"
   },
   "outputs": [
    {
     "data": {
      "text/plain": [
       "0    3897\n",
       "1    1413\n",
       "2     422\n",
       "Name: gh_cat, dtype: int64"
      ]
     },
     "execution_count": 28,
     "metadata": {
      "tags": []
     },
     "output_type": "execute_result"
    }
   ],
   "source": [
    "nhanes_subset['gh_cat'].value_counts()"
   ]
  },
  {
   "cell_type": "code",
   "execution_count": null,
   "metadata": {
    "colab": {
     "base_uri": "https://localhost:8080/",
     "height": 294
    },
    "id": "yojtvCvGTWO6",
    "outputId": "7e00e866-490d-4842-aa01-1b80d55ee662"
   },
   "outputs": [
    {
     "data": {
      "text/plain": [
       "<matplotlib.axes._subplots.AxesSubplot at 0x7f82c07718d0>"
      ]
     },
     "execution_count": 29,
     "metadata": {
      "tags": []
     },
     "output_type": "execute_result"
    },
    {
     "data": {
      "image/png": "[encoded data removed]",
      "text/plain": [
       "<Figure size 432x288 with 1 Axes>"
      ]
     },
     "metadata": {
      "needs_background": "light",
      "tags": []
     },
     "output_type": "display_data"
    }
   ],
   "source": [
    "nhanes_subset.groupby('gh_cat').count().plot.bar()"
   ]
  },
  {
   "cell_type": "code",
   "execution_count": null,
   "metadata": {
    "colab": {
     "base_uri": "https://localhost:8080/",
     "height": 195
    },
    "id": "6Mz-64EXa933",
    "outputId": "482291f8-a288-4d12-f64e-e7b6fe5a0266"
   },
   "outputs": [
    {
     "data": {
      "text/html": [
       "<div>\n",
       "<style scoped>\n",
       "    .dataframe tbody tr th:only-of-type {\n",
       "        vertical-align: middle;\n",
       "    }\n",
       "\n",
       "    .dataframe tbody tr th {\n",
       "        vertical-align: top;\n",
       "    }\n",
       "\n",
       "    .dataframe thead th {\n",
       "        text-align: right;\n",
       "    }\n",
       "</style>\n",
       "<table border=\"1\" class=\"dataframe\">\n",
       "  <thead>\n",
       "    <tr style=\"text-align: right;\">\n",
       "      <th></th>\n",
       "      <th>seqn</th>\n",
       "      <th>sex</th>\n",
       "      <th>age</th>\n",
       "      <th>tx</th>\n",
       "      <th>dx</th>\n",
       "      <th>wt</th>\n",
       "      <th>ht</th>\n",
       "      <th>bmi</th>\n",
       "      <th>waist</th>\n",
       "      <th>sub</th>\n",
       "      <th>gh</th>\n",
       "      <th>albumin</th>\n",
       "      <th>bun</th>\n",
       "      <th>SCr</th>\n",
       "      <th>gh_cat</th>\n",
       "      <th>age_range</th>\n",
       "    </tr>\n",
       "  </thead>\n",
       "  <tbody>\n",
       "    <tr>\n",
       "      <th>0</th>\n",
       "      <td>51624</td>\n",
       "      <td>male</td>\n",
       "      <td>34.166667</td>\n",
       "      <td>0</td>\n",
       "      <td>0</td>\n",
       "      <td>87.4</td>\n",
       "      <td>164.7</td>\n",
       "      <td>32.22</td>\n",
       "      <td>100.4</td>\n",
       "      <td>24.9</td>\n",
       "      <td>5.2</td>\n",
       "      <td>4.8</td>\n",
       "      <td>6.0</td>\n",
       "      <td>0.94</td>\n",
       "      <td>0</td>\n",
       "      <td>[40 - 50)</td>\n",
       "    </tr>\n",
       "    <tr>\n",
       "      <th>1</th>\n",
       "      <td>51626</td>\n",
       "      <td>male</td>\n",
       "      <td>16.833333</td>\n",
       "      <td>0</td>\n",
       "      <td>0</td>\n",
       "      <td>72.3</td>\n",
       "      <td>181.3</td>\n",
       "      <td>22.00</td>\n",
       "      <td>74.7</td>\n",
       "      <td>10.5</td>\n",
       "      <td>5.7</td>\n",
       "      <td>4.6</td>\n",
       "      <td>9.0</td>\n",
       "      <td>0.89</td>\n",
       "      <td>1</td>\n",
       "      <td>[20 - 30)</td>\n",
       "    </tr>\n",
       "    <tr>\n",
       "      <th>2</th>\n",
       "      <td>51628</td>\n",
       "      <td>female</td>\n",
       "      <td>60.166667</td>\n",
       "      <td>1</td>\n",
       "      <td>1</td>\n",
       "      <td>116.8</td>\n",
       "      <td>166.0</td>\n",
       "      <td>42.39</td>\n",
       "      <td>118.2</td>\n",
       "      <td>35.6</td>\n",
       "      <td>6.0</td>\n",
       "      <td>3.9</td>\n",
       "      <td>10.0</td>\n",
       "      <td>1.11</td>\n",
       "      <td>1</td>\n",
       "      <td>[70 - 80)</td>\n",
       "    </tr>\n",
       "    <tr>\n",
       "      <th>3</th>\n",
       "      <td>51629</td>\n",
       "      <td>male</td>\n",
       "      <td>26.083333</td>\n",
       "      <td>0</td>\n",
       "      <td>0</td>\n",
       "      <td>97.6</td>\n",
       "      <td>173.0</td>\n",
       "      <td>32.61</td>\n",
       "      <td>103.7</td>\n",
       "      <td>23.2</td>\n",
       "      <td>5.1</td>\n",
       "      <td>4.2</td>\n",
       "      <td>8.0</td>\n",
       "      <td>0.80</td>\n",
       "      <td>0</td>\n",
       "      <td>[30 - 40)</td>\n",
       "    </tr>\n",
       "    <tr>\n",
       "      <th>4</th>\n",
       "      <td>51630</td>\n",
       "      <td>female</td>\n",
       "      <td>49.666667</td>\n",
       "      <td>0</td>\n",
       "      <td>0</td>\n",
       "      <td>86.7</td>\n",
       "      <td>168.4</td>\n",
       "      <td>30.57</td>\n",
       "      <td>107.8</td>\n",
       "      <td>28.0</td>\n",
       "      <td>5.3</td>\n",
       "      <td>4.3</td>\n",
       "      <td>13.0</td>\n",
       "      <td>0.79</td>\n",
       "      <td>0</td>\n",
       "      <td>[60 - 70)</td>\n",
       "    </tr>\n",
       "  </tbody>\n",
       "</table>\n",
       "</div>"
      ],
      "text/plain": [
       "    seqn     sex        age  tx  dx  ...  albumin   bun   SCr  gh_cat  age_range\n",
       "0  51624    male  34.166667   0   0  ...      4.8   6.0  0.94       0  [40 - 50)\n",
       "1  51626    male  16.833333   0   0  ...      4.6   9.0  0.89       1  [20 - 30)\n",
       "2  51628  female  60.166667   1   1  ...      3.9  10.0  1.11       1  [70 - 80)\n",
       "3  51629    male  26.083333   0   0  ...      4.2   8.0  0.80       0  [30 - 40)\n",
       "4  51630  female  49.666667   0   0  ...      4.3  13.0  0.79       0  [60 - 70)\n",
       "\n",
       "[5 rows x 16 columns]"
      ]
     },
     "execution_count": 30,
     "metadata": {
      "tags": []
     },
     "output_type": "execute_result"
    }
   ],
   "source": [
    "nhanes_subset.head()"
   ]
  },
  {
   "cell_type": "code",
   "execution_count": null,
   "metadata": {
    "id": "zZBbqDsSa4IC"
   },
   "outputs": [],
   "source": [
    "nhanes_subset2 = nhanes_subset[['tx','dx','wt','ht','bmi','waist','sub','gh','albumin','bun','SCr','gh_cat']].copy()"
   ]
  },
  {
   "cell_type": "code",
   "execution_count": null,
   "metadata": {
    "colab": {
     "base_uri": "https://localhost:8080/",
     "height": 402
    },
    "id": "tjetLOOHaX6o",
    "outputId": "a24230ff-ab3e-4df6-d35a-c963e22b98cc"
   },
   "outputs": [
    {
     "data": {
      "text/html": [
       "<div>\n",
       "<style scoped>\n",
       "    .dataframe tbody tr th:only-of-type {\n",
       "        vertical-align: middle;\n",
       "    }\n",
       "\n",
       "    .dataframe tbody tr th {\n",
       "        vertical-align: top;\n",
       "    }\n",
       "\n",
       "    .dataframe thead th {\n",
       "        text-align: right;\n",
       "    }\n",
       "</style>\n",
       "<table border=\"1\" class=\"dataframe\">\n",
       "  <thead>\n",
       "    <tr style=\"text-align: right;\">\n",
       "      <th></th>\n",
       "      <th>tx</th>\n",
       "      <th>dx</th>\n",
       "      <th>wt</th>\n",
       "      <th>ht</th>\n",
       "      <th>bmi</th>\n",
       "      <th>waist</th>\n",
       "      <th>sub</th>\n",
       "      <th>gh</th>\n",
       "      <th>albumin</th>\n",
       "      <th>bun</th>\n",
       "      <th>SCr</th>\n",
       "      <th>gh_cat</th>\n",
       "    </tr>\n",
       "  </thead>\n",
       "  <tbody>\n",
       "    <tr>\n",
       "      <th>tx</th>\n",
       "      <td>1.000000</td>\n",
       "      <td>0.766788</td>\n",
       "      <td>0.115927</td>\n",
       "      <td>-0.060843</td>\n",
       "      <td>0.176425</td>\n",
       "      <td>0.215335</td>\n",
       "      <td>0.158229</td>\n",
       "      <td>0.549234</td>\n",
       "      <td>-0.134829</td>\n",
       "      <td>0.196073</td>\n",
       "      <td>0.064596</td>\n",
       "      <td>0.554723</td>\n",
       "    </tr>\n",
       "    <tr>\n",
       "      <th>dx</th>\n",
       "      <td>0.766788</td>\n",
       "      <td>1.000000</td>\n",
       "      <td>0.143235</td>\n",
       "      <td>-0.054779</td>\n",
       "      <td>0.201677</td>\n",
       "      <td>0.247485</td>\n",
       "      <td>0.183138</td>\n",
       "      <td>0.518504</td>\n",
       "      <td>-0.146524</td>\n",
       "      <td>0.182170</td>\n",
       "      <td>0.081421</td>\n",
       "      <td>0.527712</td>\n",
       "    </tr>\n",
       "    <tr>\n",
       "      <th>wt</th>\n",
       "      <td>0.115927</td>\n",
       "      <td>0.143235</td>\n",
       "      <td>1.000000</td>\n",
       "      <td>0.511006</td>\n",
       "      <td>0.856324</td>\n",
       "      <td>0.873275</td>\n",
       "      <td>0.609409</td>\n",
       "      <td>0.153430</td>\n",
       "      <td>-0.134406</td>\n",
       "      <td>0.101075</td>\n",
       "      <td>0.152553</td>\n",
       "      <td>0.188891</td>\n",
       "    </tr>\n",
       "    <tr>\n",
       "      <th>ht</th>\n",
       "      <td>-0.060843</td>\n",
       "      <td>-0.054779</td>\n",
       "      <td>0.511006</td>\n",
       "      <td>1.000000</td>\n",
       "      <td>0.006959</td>\n",
       "      <td>0.200707</td>\n",
       "      <td>-0.048996</td>\n",
       "      <td>-0.048385</td>\n",
       "      <td>0.230162</td>\n",
       "      <td>0.012039</td>\n",
       "      <td>0.223118</td>\n",
       "      <td>-0.074437</td>\n",
       "    </tr>\n",
       "    <tr>\n",
       "      <th>bmi</th>\n",
       "      <td>0.176425</td>\n",
       "      <td>0.201677</td>\n",
       "      <td>0.856324</td>\n",
       "      <td>0.006959</td>\n",
       "      <td>1.000000</td>\n",
       "      <td>0.898984</td>\n",
       "      <td>0.739213</td>\n",
       "      <td>0.207826</td>\n",
       "      <td>-0.295475</td>\n",
       "      <td>0.113379</td>\n",
       "      <td>0.048440</td>\n",
       "      <td>0.266782</td>\n",
       "    </tr>\n",
       "    <tr>\n",
       "      <th>waist</th>\n",
       "      <td>0.215335</td>\n",
       "      <td>0.247485</td>\n",
       "      <td>0.873275</td>\n",
       "      <td>0.200707</td>\n",
       "      <td>0.898984</td>\n",
       "      <td>1.000000</td>\n",
       "      <td>0.699390</td>\n",
       "      <td>0.269155</td>\n",
       "      <td>-0.277664</td>\n",
       "      <td>0.191404</td>\n",
       "      <td>0.118702</td>\n",
       "      <td>0.332173</td>\n",
       "    </tr>\n",
       "    <tr>\n",
       "      <th>sub</th>\n",
       "      <td>0.158229</td>\n",
       "      <td>0.183138</td>\n",
       "      <td>0.609409</td>\n",
       "      <td>-0.048996</td>\n",
       "      <td>0.739213</td>\n",
       "      <td>0.699390</td>\n",
       "      <td>1.000000</td>\n",
       "      <td>0.210719</td>\n",
       "      <td>-0.263390</td>\n",
       "      <td>0.017523</td>\n",
       "      <td>-0.012243</td>\n",
       "      <td>0.250996</td>\n",
       "    </tr>\n",
       "    <tr>\n",
       "      <th>gh</th>\n",
       "      <td>0.549234</td>\n",
       "      <td>0.518504</td>\n",
       "      <td>0.153430</td>\n",
       "      <td>-0.048385</td>\n",
       "      <td>0.207826</td>\n",
       "      <td>0.269155</td>\n",
       "      <td>0.210719</td>\n",
       "      <td>1.000000</td>\n",
       "      <td>-0.209042</td>\n",
       "      <td>0.151156</td>\n",
       "      <td>0.045476</td>\n",
       "      <td>0.763838</td>\n",
       "    </tr>\n",
       "    <tr>\n",
       "      <th>albumin</th>\n",
       "      <td>-0.134829</td>\n",
       "      <td>-0.146524</td>\n",
       "      <td>-0.134406</td>\n",
       "      <td>0.230162</td>\n",
       "      <td>-0.295475</td>\n",
       "      <td>-0.277664</td>\n",
       "      <td>-0.263390</td>\n",
       "      <td>-0.209042</td>\n",
       "      <td>1.000000</td>\n",
       "      <td>-0.094996</td>\n",
       "      <td>-0.042353</td>\n",
       "      <td>-0.230647</td>\n",
       "    </tr>\n",
       "    <tr>\n",
       "      <th>bun</th>\n",
       "      <td>0.196073</td>\n",
       "      <td>0.182170</td>\n",
       "      <td>0.101075</td>\n",
       "      <td>0.012039</td>\n",
       "      <td>0.113379</td>\n",
       "      <td>0.191404</td>\n",
       "      <td>0.017523</td>\n",
       "      <td>0.151156</td>\n",
       "      <td>-0.094996</td>\n",
       "      <td>1.000000</td>\n",
       "      <td>0.487647</td>\n",
       "      <td>0.222592</td>\n",
       "    </tr>\n",
       "    <tr>\n",
       "      <th>SCr</th>\n",
       "      <td>0.064596</td>\n",
       "      <td>0.081421</td>\n",
       "      <td>0.152553</td>\n",
       "      <td>0.223118</td>\n",
       "      <td>0.048440</td>\n",
       "      <td>0.118702</td>\n",
       "      <td>-0.012243</td>\n",
       "      <td>0.045476</td>\n",
       "      <td>-0.042353</td>\n",
       "      <td>0.487647</td>\n",
       "      <td>1.000000</td>\n",
       "      <td>0.073698</td>\n",
       "    </tr>\n",
       "    <tr>\n",
       "      <th>gh_cat</th>\n",
       "      <td>0.554723</td>\n",
       "      <td>0.527712</td>\n",
       "      <td>0.188891</td>\n",
       "      <td>-0.074437</td>\n",
       "      <td>0.266782</td>\n",
       "      <td>0.332173</td>\n",
       "      <td>0.250996</td>\n",
       "      <td>0.763838</td>\n",
       "      <td>-0.230647</td>\n",
       "      <td>0.222592</td>\n",
       "      <td>0.073698</td>\n",
       "      <td>1.000000</td>\n",
       "    </tr>\n",
       "  </tbody>\n",
       "</table>\n",
       "</div>"
      ],
      "text/plain": [
       "               tx        dx        wt  ...       bun       SCr    gh_cat\n",
       "tx       1.000000  0.766788  0.115927  ...  0.196073  0.064596  0.554723\n",
       "dx       0.766788  1.000000  0.143235  ...  0.182170  0.081421  0.527712\n",
       "wt       0.115927  0.143235  1.000000  ...  0.101075  0.152553  0.188891\n",
       "ht      -0.060843 -0.054779  0.511006  ...  0.012039  0.223118 -0.074437\n",
       "bmi      0.176425  0.201677  0.856324  ...  0.113379  0.048440  0.266782\n",
       "waist    0.215335  0.247485  0.873275  ...  0.191404  0.118702  0.332173\n",
       "sub      0.158229  0.183138  0.609409  ...  0.017523 -0.012243  0.250996\n",
       "gh       0.549234  0.518504  0.153430  ...  0.151156  0.045476  0.763838\n",
       "albumin -0.134829 -0.146524 -0.134406  ... -0.094996 -0.042353 -0.230647\n",
       "bun      0.196073  0.182170  0.101075  ...  1.000000  0.487647  0.222592\n",
       "SCr      0.064596  0.081421  0.152553  ...  0.487647  1.000000  0.073698\n",
       "gh_cat   0.554723  0.527712  0.188891  ...  0.222592  0.073698  1.000000\n",
       "\n",
       "[12 rows x 12 columns]"
      ]
     },
     "execution_count": 33,
     "metadata": {
      "tags": []
     },
     "output_type": "execute_result"
    }
   ],
   "source": [
    "corr = nhanes_subset2.corr()\n",
    "corr"
   ]
  },
  {
   "cell_type": "code",
   "execution_count": null,
   "metadata": {
    "colab": {
     "base_uri": "https://localhost:8080/",
     "height": 317
    },
    "id": "SExvkjVraiGs",
    "outputId": "a09e5c20-45b2-4a9b-96b7-e83e1790021a"
   },
   "outputs": [
    {
     "data": {
      "text/plain": [
       "<matplotlib.axes._subplots.AxesSubplot at 0x7fe8c4016630>"
      ]
     },
     "execution_count": 34,
     "metadata": {
      "tags": []
     },
     "output_type": "execute_result"
    },
    {
     "data": {
      "image/png": "[encoded data removed]",
      "text/plain": [
       "<Figure size 432x288 with 2 Axes>"
      ]
     },
     "metadata": {
      "needs_background": "light",
      "tags": []
     },
     "output_type": "display_data"
    }
   ],
   "source": [
    "import seaborn as sns\n",
    "sns.heatmap(corr,annot = True)\n"
   ]
  },
  {
   "cell_type": "code",
   "execution_count": null,
   "metadata": {
    "colab": {
     "base_uri": "https://localhost:8080/",
     "height": 195
    },
    "id": "Kv41XR1ufPGd",
    "outputId": "591c6e8d-cf83-4f3b-eaaf-1e43ff412640"
   },
   "outputs": [
    {
     "data": {
      "text/html": [
       "<div>\n",
       "<style scoped>\n",
       "    .dataframe tbody tr th:only-of-type {\n",
       "        vertical-align: middle;\n",
       "    }\n",
       "\n",
       "    .dataframe tbody tr th {\n",
       "        vertical-align: top;\n",
       "    }\n",
       "\n",
       "    .dataframe thead th {\n",
       "        text-align: right;\n",
       "    }\n",
       "</style>\n",
       "<table border=\"1\" class=\"dataframe\">\n",
       "  <thead>\n",
       "    <tr style=\"text-align: right;\">\n",
       "      <th></th>\n",
       "      <th>tx</th>\n",
       "      <th>dx</th>\n",
       "      <th>wt</th>\n",
       "      <th>ht</th>\n",
       "      <th>bmi</th>\n",
       "      <th>waist</th>\n",
       "      <th>sub</th>\n",
       "      <th>gh</th>\n",
       "      <th>albumin</th>\n",
       "      <th>bun</th>\n",
       "      <th>SCr</th>\n",
       "      <th>gh_cat</th>\n",
       "    </tr>\n",
       "  </thead>\n",
       "  <tbody>\n",
       "    <tr>\n",
       "      <th>0</th>\n",
       "      <td>0</td>\n",
       "      <td>0</td>\n",
       "      <td>87.4</td>\n",
       "      <td>164.7</td>\n",
       "      <td>32.22</td>\n",
       "      <td>100.4</td>\n",
       "      <td>24.9</td>\n",
       "      <td>5.2</td>\n",
       "      <td>4.8</td>\n",
       "      <td>6.0</td>\n",
       "      <td>0.94</td>\n",
       "      <td>0</td>\n",
       "    </tr>\n",
       "    <tr>\n",
       "      <th>1</th>\n",
       "      <td>0</td>\n",
       "      <td>0</td>\n",
       "      <td>72.3</td>\n",
       "      <td>181.3</td>\n",
       "      <td>22.00</td>\n",
       "      <td>74.7</td>\n",
       "      <td>10.5</td>\n",
       "      <td>5.7</td>\n",
       "      <td>4.6</td>\n",
       "      <td>9.0</td>\n",
       "      <td>0.89</td>\n",
       "      <td>1</td>\n",
       "    </tr>\n",
       "    <tr>\n",
       "      <th>2</th>\n",
       "      <td>1</td>\n",
       "      <td>1</td>\n",
       "      <td>116.8</td>\n",
       "      <td>166.0</td>\n",
       "      <td>42.39</td>\n",
       "      <td>118.2</td>\n",
       "      <td>35.6</td>\n",
       "      <td>6.0</td>\n",
       "      <td>3.9</td>\n",
       "      <td>10.0</td>\n",
       "      <td>1.11</td>\n",
       "      <td>1</td>\n",
       "    </tr>\n",
       "    <tr>\n",
       "      <th>3</th>\n",
       "      <td>0</td>\n",
       "      <td>0</td>\n",
       "      <td>97.6</td>\n",
       "      <td>173.0</td>\n",
       "      <td>32.61</td>\n",
       "      <td>103.7</td>\n",
       "      <td>23.2</td>\n",
       "      <td>5.1</td>\n",
       "      <td>4.2</td>\n",
       "      <td>8.0</td>\n",
       "      <td>0.80</td>\n",
       "      <td>0</td>\n",
       "    </tr>\n",
       "    <tr>\n",
       "      <th>4</th>\n",
       "      <td>0</td>\n",
       "      <td>0</td>\n",
       "      <td>86.7</td>\n",
       "      <td>168.4</td>\n",
       "      <td>30.57</td>\n",
       "      <td>107.8</td>\n",
       "      <td>28.0</td>\n",
       "      <td>5.3</td>\n",
       "      <td>4.3</td>\n",
       "      <td>13.0</td>\n",
       "      <td>0.79</td>\n",
       "      <td>0</td>\n",
       "    </tr>\n",
       "  </tbody>\n",
       "</table>\n",
       "</div>"
      ],
      "text/plain": [
       "   tx  dx     wt     ht    bmi  waist   sub   gh  albumin   bun   SCr  gh_cat\n",
       "0   0   0   87.4  164.7  32.22  100.4  24.9  5.2      4.8   6.0  0.94       0\n",
       "1   0   0   72.3  181.3  22.00   74.7  10.5  5.7      4.6   9.0  0.89       1\n",
       "2   1   1  116.8  166.0  42.39  118.2  35.6  6.0      3.9  10.0  1.11       1\n",
       "3   0   0   97.6  173.0  32.61  103.7  23.2  5.1      4.2   8.0  0.80       0\n",
       "4   0   0   86.7  168.4  30.57  107.8  28.0  5.3      4.3  13.0  0.79       0"
      ]
     },
     "execution_count": 35,
     "metadata": {
      "tags": []
     },
     "output_type": "execute_result"
    }
   ],
   "source": [
    "nhanes_subset2.head()"
   ]
  },
  {
   "cell_type": "code",
   "execution_count": null,
   "metadata": {
    "colab": {
     "base_uri": "https://localhost:8080/",
     "height": 336
    },
    "id": "ywmDqGHYlfkC",
    "outputId": "8374d0d8-7d00-476a-ff29-154ef82ccd31"
   },
   "outputs": [
    {
     "name": "stdout",
     "output_type": "stream",
     "text": [
      "<class 'pandas.core.frame.DataFrame'>\n",
      "Int64Index: 5732 entries, 0 to 6794\n",
      "Data columns (total 12 columns):\n",
      " #   Column   Non-Null Count  Dtype  \n",
      "---  ------   --------------  -----  \n",
      " 0   tx       5732 non-null   int64  \n",
      " 1   dx       5732 non-null   int64  \n",
      " 2   wt       5732 non-null   float64\n",
      " 3   ht       5732 non-null   float64\n",
      " 4   bmi      5732 non-null   float64\n",
      " 5   waist    5732 non-null   float64\n",
      " 6   sub      5732 non-null   float64\n",
      " 7   gh       5732 non-null   float64\n",
      " 8   albumin  5732 non-null   float64\n",
      " 9   bun      5732 non-null   float64\n",
      " 10  SCr      5732 non-null   float64\n",
      " 11  gh_cat   5732 non-null   int64  \n",
      "dtypes: float64(9), int64(3)\n",
      "memory usage: 582.2 KB\n"
     ]
    }
   ],
   "source": [
    "nhanes_subset2.info()"
   ]
  },
  {
   "cell_type": "code",
   "execution_count": null,
   "metadata": {
    "colab": {
     "base_uri": "https://localhost:8080/",
     "height": 235
    },
    "id": "ERr_t497Di5c",
    "outputId": "535676a3-373a-4971-e478-a31fbeec3ef1"
   },
   "outputs": [
    {
     "data": {
      "text/plain": [
       "tx         0\n",
       "dx         0\n",
       "wt         0\n",
       "ht         0\n",
       "bmi        0\n",
       "waist      0\n",
       "sub        0\n",
       "gh         0\n",
       "albumin    0\n",
       "bun        0\n",
       "SCr        0\n",
       "gh_cat     0\n",
       "dtype: int64"
      ]
     },
     "execution_count": 37,
     "metadata": {
      "tags": []
     },
     "output_type": "execute_result"
    }
   ],
   "source": [
    "nhanes_subset2.isna().sum()"
   ]
  },
  {
   "cell_type": "code",
   "execution_count": null,
   "metadata": {
    "id": "6urcOwE4lkAf"
   },
   "outputs": [],
   "source": [
    "#nhanes_sub2.dropna(inplace=True)"
   ]
  },
  {
   "cell_type": "code",
   "execution_count": null,
   "metadata": {
    "id": "h-wJRrX4loxz"
   },
   "outputs": [],
   "source": [
    "#nhanes_sub2.info()"
   ]
  },
  {
   "cell_type": "code",
   "execution_count": null,
   "metadata": {
    "id": "Ln8uXQ3jcmpp"
   },
   "outputs": [],
   "source": [
    "from sklearn.model_selection import train_test_split\n",
    "train_set, test_set,train_label,test_label = train_test_split(nhanes_subset2[['tx','dx','wt','ht','bmi','waist','sub','gh','albumin','bun','SCr']],nhanes_subset2['gh_cat'],\n",
    "                                                              test_size=0.33,random_state=42)"
   ]
  },
  {
   "cell_type": "code",
   "execution_count": null,
   "metadata": {
    "colab": {
     "base_uri": "https://localhost:8080/",
     "height": 890
    },
    "id": "Z-5JTTsNGEcS",
    "outputId": "d60ec185-9e04-42a5-856b-1e081e0c5f4c"
   },
   "outputs": [
    {
     "data": {
      "text/plain": [
       "(      tx  dx     wt     ht    bmi  waist   sub   gh  albumin   bun   SCr\n",
       " 4277   0   0   95.3  167.9  33.81  114.3  29.0  5.9      4.6  10.0  0.74\n",
       " 809    0   0   81.9  167.5  29.19  105.8  24.0  5.0      4.2  10.0  0.63\n",
       " 4345   0   0   57.1  162.6  21.60   78.2  12.0  5.2      4.3   9.0  0.81\n",
       " 5089   0   0   78.8  178.5  24.73   91.2  12.8  5.5      4.3  28.0  1.24\n",
       " 6283   0   0   75.5  167.1  27.04   93.9  16.0  5.4      4.2  11.0  0.76\n",
       " ...   ..  ..    ...    ...    ...    ...   ...  ...      ...   ...   ...\n",
       " 4477   0   0  105.0  176.4  33.74  101.4  36.0  5.1      3.8  15.0  2.19\n",
       " 6174   0   0  108.2  172.0  36.57  132.8  26.0  7.4      3.9  15.0  1.10\n",
       " 6212   0   0   78.1  175.4  25.39   92.6  12.0  5.9      4.9  12.0  1.05\n",
       " 6404   0   0   73.0  177.8  23.09   86.0  11.4  5.4      4.4  10.0  1.06\n",
       " 1016   1   1   80.7  178.0  25.47   98.9  20.2  7.3      4.3  10.0  0.96\n",
       " \n",
       " [3840 rows x 11 columns],\n",
       "       tx  dx    wt     ht    bmi  waist   sub   gh  albumin   bun   SCr\n",
       " 4987   0   0  68.9  174.9  22.52   76.3   8.2  5.4      5.0  12.0  0.75\n",
       " 2760   1   1  67.6  180.7  20.70   87.5  23.3  7.6      4.6  11.0  0.61\n",
       " 4052   0   0  46.9  158.3  18.72   70.5  22.2  5.1      4.6  18.0  0.65\n",
       " 4363   0   0  57.9  162.7  21.87   79.0  17.9  6.1      4.2  10.0  0.83\n",
       " 3154   1   1  55.3  160.9  21.36   84.6  18.4  5.8      4.6  13.0  1.01\n",
       " ...   ..  ..   ...    ...    ...    ...   ...  ...      ...   ...   ...\n",
       " 4468   1   1  78.9  182.4  23.72   83.0  18.0  9.9      4.3  15.0  0.99\n",
       " 6554   0   0  67.4  169.7  23.40   79.0  10.5  5.1      4.2   8.0  1.17\n",
       " 1322   1   1  88.8  162.2  33.75  108.3  29.0  6.0      3.9  21.0  1.22\n",
       " 5003   0   0  59.7  172.4  20.09   75.6  10.0  5.8      4.8   5.0  0.88\n",
       " 6794   1   1  71.3  157.3  28.82  102.1  19.7  6.7      4.3  15.0  0.63\n",
       " \n",
       " [1892 rows x 11 columns],\n",
       " 4277    1\n",
       " 809     0\n",
       " 4345    0\n",
       " 5089    0\n",
       " 6283    0\n",
       "        ..\n",
       " 4477    0\n",
       " 6174    2\n",
       " 6212    1\n",
       " 6404    0\n",
       " 1016    2\n",
       " Name: gh_cat, Length: 3840, dtype: int64,\n",
       " 4987    0\n",
       " 2760    2\n",
       " 4052    0\n",
       " 4363    1\n",
       " 3154    1\n",
       "        ..\n",
       " 4468    2\n",
       " 6554    0\n",
       " 1322    1\n",
       " 5003    1\n",
       " 6794    2\n",
       " Name: gh_cat, Length: 1892, dtype: int64)"
      ]
     },
     "execution_count": 32,
     "metadata": {
      "tags": []
     },
     "output_type": "execute_result"
    }
   ],
   "source": [
    "train_set, test_set,train_label,test_label"
   ]
  },
  {
   "cell_type": "code",
   "execution_count": null,
   "metadata": {
    "id": "38HJIkkmdrKq"
   },
   "outputs": [],
   "source": [
    "from sklearn.preprocessing import MinMaxScaler as Scaler\n",
    "scaler = Scaler()\n",
    "scaler.fit(train_set)\n",
    "train_set_scaled = scaler.transform(train_set)\n",
    "test_set_scaled = scaler.transform(test_set)"
   ]
  },
  {
   "cell_type": "code",
   "execution_count": null,
   "metadata": {
    "id": "ZJRKqVl-d-p2"
   },
   "outputs": [],
   "source": [
    "from sklearn.linear_model import LogisticRegression\n",
    "from sklearn.neighbors import KNeighborsClassifier\n",
    "from sklearn.naive_bayes import GaussianNB\n",
    "from sklearn.svm import SVC\n",
    "from sklearn.ensemble import RandomForestClassifier\n",
    "from sklearn.tree import DecisionTreeRegressor\n",
    "from sklearn import model_selection\n",
    "from xgboost.sklearn import XGBClassifier"
   ]
  },
  {
   "cell_type": "code",
   "execution_count": null,
   "metadata": {
    "id": "wXzd1Ra4eC2l"
   },
   "outputs": [],
   "source": [
    "models = []\n",
    "models.append(('LR', LogisticRegression(solver ='lbfgs',multi_class='auto')))\n",
    "models.append(('KNN', KNeighborsClassifier()))\n",
    "models.append(('NB', GaussianNB()))\n",
    "models.append(('SVC', SVC(gamma='scale')))\n",
    "models.append(('RFC', RandomForestClassifier(n_estimators=100)))\n",
    "models.append(('DTR', DecisionTreeRegressor()))\n",
    "models.append(('XGB',XGBClassifier()))"
   ]
  },
  {
   "cell_type": "code",
   "execution_count": null,
   "metadata": {
    "id": "Hv8A6KUEeq4w"
   },
   "outputs": [],
   "source": [
    "results = []\n",
    "names = []\n",
    "X = train_set_scaled\n",
    "y = train_label\n",
    "seed = 5"
   ]
  },
  {
   "cell_type": "code",
   "execution_count": null,
   "metadata": {
    "colab": {
     "base_uri": "https://localhost:8080/",
     "height": 658
    },
    "id": "aCV8YmQbewi_",
    "outputId": "5f9c946f-5e0f-4d4d-b353-e3ecff80aee4"
   },
   "outputs": [
    {
     "name": "stderr",
     "output_type": "stream",
     "text": [
      "/usr/local/lib/python3.6/dist-packages/sklearn/model_selection/_split.py:296: FutureWarning: Setting a random_state has no effect since shuffle is False. This will raise an error in 0.24. You should leave random_state to its default (None), or set shuffle=True.\n",
      "  FutureWarning\n",
      "/usr/local/lib/python3.6/dist-packages/sklearn/linear_model/_logistic.py:940: ConvergenceWarning: lbfgs failed to converge (status=1):\n",
      "STOP: TOTAL NO. of ITERATIONS REACHED LIMIT.\n",
      "\n",
      "Increase the number of iterations (max_iter) or scale the data as shown in:\n",
      "    https://scikit-learn.org/stable/modules/preprocessing.html\n",
      "Please also refer to the documentation for alternative solver options:\n",
      "    https://scikit-learn.org/stable/modules/linear_model.html#logistic-regression\n",
      "  extra_warning_msg=_LOGISTIC_SOLVER_CONVERGENCE_MSG)\n",
      "/usr/local/lib/python3.6/dist-packages/sklearn/linear_model/_logistic.py:940: ConvergenceWarning: lbfgs failed to converge (status=1):\n",
      "STOP: TOTAL NO. of ITERATIONS REACHED LIMIT.\n",
      "\n",
      "Increase the number of iterations (max_iter) or scale the data as shown in:\n",
      "    https://scikit-learn.org/stable/modules/preprocessing.html\n",
      "Please also refer to the documentation for alternative solver options:\n",
      "    https://scikit-learn.org/stable/modules/linear_model.html#logistic-regression\n",
      "  extra_warning_msg=_LOGISTIC_SOLVER_CONVERGENCE_MSG)\n"
     ]
    },
    {
     "name": "stdout",
     "output_type": "stream",
     "text": [
      "LR: 0.8268229166666666 (0.013643944684822648)\n"
     ]
    },
    {
     "name": "stderr",
     "output_type": "stream",
     "text": [
      "/usr/local/lib/python3.6/dist-packages/sklearn/model_selection/_split.py:296: FutureWarning: Setting a random_state has no effect since shuffle is False. This will raise an error in 0.24. You should leave random_state to its default (None), or set shuffle=True.\n",
      "  FutureWarning\n"
     ]
    },
    {
     "name": "stdout",
     "output_type": "stream",
     "text": [
      "KNN: 0.7705729166666666 (0.023247201985908142)\n",
      "NB: 0.84921875 (0.019223266181208922)\n"
     ]
    },
    {
     "name": "stderr",
     "output_type": "stream",
     "text": [
      "/usr/local/lib/python3.6/dist-packages/sklearn/model_selection/_split.py:296: FutureWarning: Setting a random_state has no effect since shuffle is False. This will raise an error in 0.24. You should leave random_state to its default (None), or set shuffle=True.\n",
      "  FutureWarning\n",
      "/usr/local/lib/python3.6/dist-packages/sklearn/model_selection/_split.py:296: FutureWarning: Setting a random_state has no effect since shuffle is False. This will raise an error in 0.24. You should leave random_state to its default (None), or set shuffle=True.\n",
      "  FutureWarning\n"
     ]
    },
    {
     "name": "stdout",
     "output_type": "stream",
     "text": [
      "SVC: 0.8958333333333334 (0.015362376253908992)\n"
     ]
    },
    {
     "name": "stderr",
     "output_type": "stream",
     "text": [
      "/usr/local/lib/python3.6/dist-packages/sklearn/model_selection/_split.py:296: FutureWarning: Setting a random_state has no effect since shuffle is False. This will raise an error in 0.24. You should leave random_state to its default (None), or set shuffle=True.\n",
      "  FutureWarning\n"
     ]
    },
    {
     "name": "stdout",
     "output_type": "stream",
     "text": [
      "RFC: 1.0 (0.0)\n",
      "DTR: 1.0 (0.0)\n"
     ]
    },
    {
     "name": "stderr",
     "output_type": "stream",
     "text": [
      "/usr/local/lib/python3.6/dist-packages/sklearn/model_selection/_split.py:296: FutureWarning: Setting a random_state has no effect since shuffle is False. This will raise an error in 0.24. You should leave random_state to its default (None), or set shuffle=True.\n",
      "  FutureWarning\n",
      "/usr/local/lib/python3.6/dist-packages/sklearn/model_selection/_split.py:296: FutureWarning: Setting a random_state has no effect since shuffle is False. This will raise an error in 0.24. You should leave random_state to its default (None), or set shuffle=True.\n",
      "  FutureWarning\n"
     ]
    },
    {
     "name": "stdout",
     "output_type": "stream",
     "text": [
      "XGB: 1.0 (0.0)\n"
     ]
    }
   ],
   "source": [
    "for name, model in models:\n",
    "    kfold = model_selection.KFold(n_splits = 10, random_state=seed)\n",
    "    cv_results = model_selection.cross_val_score(model, X, y,cv=kfold, scoring='accuracy')\n",
    "    results.append(cv_results)\n",
    "    names.append(name)\n",
    "    msg = \"{}: {} ({})\". format(name, cv_results.mean(), cv_results.std())\n",
    "    print(msg)"
   ]
  },
  {
   "cell_type": "code",
   "execution_count": null,
   "metadata": {
    "id": "UNNeKDiwqOgI"
   },
   "outputs": [],
   "source": [
    "from sklearn.metrics import accuracy_score,classification_report,confusion_matrix"
   ]
  },
  {
   "cell_type": "code",
   "execution_count": null,
   "metadata": {
    "id": "ewZ3lLgwpJeb"
   },
   "outputs": [],
   "source": [
    "Decision_tree_model = DecisionTreeRegressor()\n",
    "Decision_tree_model.fit(train_set_scaled,train_label)\n",
    "Decision_tree_prediction = Decision_tree_model.predict(test_set_scaled)"
   ]
  },
  {
   "cell_type": "code",
   "execution_count": null,
   "metadata": {
    "colab": {
     "base_uri": "https://localhost:8080/",
     "height": 202
    },
    "id": "rrbuKtc1qkMc",
    "outputId": "cd2cae79-3398-4762-c410-ea72aa2fedfd"
   },
   "outputs": [
    {
     "name": "stdout",
     "output_type": "stream",
     "text": [
      "Decision Tree Classification Report:\n",
      "               precision    recall  f1-score   support\n",
      "\n",
      "           0       1.00      1.00      1.00      1276\n",
      "           1       1.00      1.00      1.00       477\n",
      "           2       1.00      1.00      1.00       139\n",
      "\n",
      "    accuracy                           1.00      1892\n",
      "   macro avg       1.00      1.00      1.00      1892\n",
      "weighted avg       1.00      1.00      1.00      1892\n",
      "\n"
     ]
    }
   ],
   "source": [
    "print( 'Decision Tree Classification Report:\\n', classification_report(test_label,Decision_tree_prediction,target_names=['0','1','2']))"
   ]
  },
  {
   "cell_type": "code",
   "execution_count": null,
   "metadata": {
    "colab": {
     "base_uri": "https://localhost:8080/",
     "height": 50
    },
    "id": "WMQRTDRQrnYA",
    "outputId": "8db939c0-96ff-459d-e30b-54430644fe59"
   },
   "outputs": [
    {
     "name": "stdout",
     "output_type": "stream",
     "text": [
      "Decision Tree Accuracy Score:\n",
      " 1.0\n"
     ]
    }
   ],
   "source": [
    "print('Decision Tree Accuracy Score:\\n', accuracy_score(test_label,Decision_tree_prediction))"
   ]
  },
  {
   "cell_type": "code",
   "execution_count": null,
   "metadata": {
    "colab": {
     "base_uri": "https://localhost:8080/",
     "height": 279
    },
    "id": "nSJa9hxCr1Ce",
    "outputId": "828c61a3-f3e8-4743-e54c-f08447c8f2aa"
   },
   "outputs": [
    {
     "data": {
      "image/png": "[encoded data removed]",
      "text/plain": [
       "<Figure size 432x288 with 1 Axes>"
      ]
     },
     "metadata": {
      "needs_background": "light",
      "tags": []
     },
     "output_type": "display_data"
    }
   ],
   "source": [
    "Decision_tree_matrix = confusion_matrix(test_label,Decision_tree_prediction)\n",
    "from mlxtend.plotting import plot_confusion_matrix\n",
    "import matplotlib.pyplot as plt\n",
    "\n",
    "\n",
    "fig, ax = plot_confusion_matrix(conf_mat=Decision_tree_matrix)\n",
    "plt.show()"
   ]
  },
  {
   "cell_type": "code",
   "execution_count": null,
   "metadata": {
    "colab": {
     "base_uri": "https://localhost:8080/",
     "height": 202
    },
    "id": "AFZIekpjXSVp",
    "outputId": "e3107986-e759-43c4-a386-b065cb073bdd"
   },
   "outputs": [
    {
     "name": "stdout",
     "output_type": "stream",
     "text": [
      "Feature: 0, Score: 0.00000\n",
      "Feature: 1, Score: 0.00000\n",
      "Feature: 2, Score: 0.00000\n",
      "Feature: 3, Score: 0.00000\n",
      "Feature: 4, Score: 0.00000\n",
      "Feature: 5, Score: 0.00000\n",
      "Feature: 6, Score: 0.00000\n",
      "Feature: 7, Score: 1.00000\n",
      "Feature: 8, Score: 0.00000\n",
      "Feature: 9, Score: 0.00000\n",
      "Feature: 10, Score: 0.00000\n"
     ]
    }
   ],
   "source": [
    "importance = Decision_tree_model.feature_importances_\n",
    "# summarize feature importance\n",
    "for i,v in enumerate(importance):\n",
    "\tprint('Feature: %0d, Score: %.5f' % (i,v))\n",
    "# plot feature importance\n",
    "#pyplot.bar([x for x in range(len(importance))], importance)\n",
    "#pyplot.show()"
   ]
  },
  {
   "cell_type": "code",
   "execution_count": null,
   "metadata": {
    "colab": {
     "base_uri": "https://localhost:8080/",
     "height": 151
    },
    "id": "5RCSnIkxtZA3",
    "outputId": "d6b8d7e2-c7ff-4450-e827-f313b65a7c1d"
   },
   "outputs": [
    {
     "name": "stderr",
     "output_type": "stream",
     "text": [
      "/usr/local/lib/python3.6/dist-packages/sklearn/linear_model/_logistic.py:940: ConvergenceWarning: lbfgs failed to converge (status=1):\n",
      "STOP: TOTAL NO. of ITERATIONS REACHED LIMIT.\n",
      "\n",
      "Increase the number of iterations (max_iter) or scale the data as shown in:\n",
      "    https://scikit-learn.org/stable/modules/preprocessing.html\n",
      "Please also refer to the documentation for alternative solver options:\n",
      "    https://scikit-learn.org/stable/modules/linear_model.html#logistic-regression\n",
      "  extra_warning_msg=_LOGISTIC_SOLVER_CONVERGENCE_MSG)\n"
     ]
    }
   ],
   "source": [
    "Logistic_regression_model = LogisticRegression(solver ='lbfgs',multi_class='auto')\n",
    "Logistic_regression_model.fit(train_set_scaled,train_label)\n",
    "Logistic_regression_prediction = Logistic_regression_model.predict(test_set_scaled)"
   ]
  },
  {
   "cell_type": "code",
   "execution_count": null,
   "metadata": {
    "colab": {
     "base_uri": "https://localhost:8080/",
     "height": 202
    },
    "id": "NJOK65CFt4oj",
    "outputId": "0c2d785c-b0e6-42f9-c192-a3ce804fe813"
   },
   "outputs": [
    {
     "name": "stdout",
     "output_type": "stream",
     "text": [
      "Logistic Regression Classification Report:\n",
      "               precision    recall  f1-score   support\n",
      "\n",
      "           0       0.83      0.99      0.90      1242\n",
      "           1       0.73      0.46      0.56       475\n",
      "           2       1.00      0.53      0.69       139\n",
      "\n",
      "    accuracy                           0.82      1856\n",
      "   macro avg       0.85      0.66      0.72      1856\n",
      "weighted avg       0.82      0.82      0.80      1856\n",
      "\n"
     ]
    }
   ],
   "source": [
    "print( 'Logistic Regression Classification Report:\\n', classification_report(test_label,Logistic_regression_prediction,target_names=['0','1','2']))"
   ]
  },
  {
   "cell_type": "code",
   "execution_count": null,
   "metadata": {
    "colab": {
     "base_uri": "https://localhost:8080/",
     "height": 50
    },
    "id": "HgBJDLVduEbM",
    "outputId": "32ed44b2-a0e9-4163-b98f-fdc3d1adabbf"
   },
   "outputs": [
    {
     "name": "stdout",
     "output_type": "stream",
     "text": [
      "Logistic Regression Accuracy Score:\n",
      " 0.818426724137931\n"
     ]
    }
   ],
   "source": [
    "print('Logistic Regression Accuracy Score:\\n', accuracy_score(test_label,Logistic_regression_prediction))"
   ]
  },
  {
   "cell_type": "code",
   "execution_count": null,
   "metadata": {
    "colab": {
     "base_uri": "https://localhost:8080/",
     "height": 279
    },
    "id": "zujH5Ac1uOFP",
    "outputId": "72082dc1-7d7b-45d3-a4c6-33495bf03006"
   },
   "outputs": [
    {
     "data": {
      "image/png": "[encoded data removed]",
      "text/plain": [
       "<Figure size 432x288 with 1 Axes>"
      ]
     },
     "metadata": {
      "needs_background": "light",
      "tags": []
     },
     "output_type": "display_data"
    }
   ],
   "source": [
    "Logistic_regression_matrix = confusion_matrix(test_label,Logistic_regression_prediction)\n",
    "from mlxtend.plotting import plot_confusion_matrix\n",
    "import matplotlib.pyplot as plt\n",
    "\n",
    "\n",
    "fig, ax = plot_confusion_matrix(conf_mat=Logistic_regression_matrix,cmap='viridis')\n",
    "plt.show()"
   ]
  },
  {
   "cell_type": "code",
   "execution_count": null,
   "metadata": {
    "id": "wrr7HfOyRkqZ"
   },
   "outputs": [],
   "source": [
    "Naive_model = GaussianNB()\n",
    "Naive_model.fit(train_set_scaled,train_label)\n",
    "Naive_prediction = Naive_model.predict(test_set_scaled)"
   ]
  },
  {
   "cell_type": "code",
   "execution_count": null,
   "metadata": {
    "colab": {
     "base_uri": "https://localhost:8080/",
     "height": 202
    },
    "id": "CJEYRU6cSZnC",
    "outputId": "86411385-d784-4edc-9c12-f9d3879c5355"
   },
   "outputs": [
    {
     "name": "stdout",
     "output_type": "stream",
     "text": [
      "Naive Bays Classification Report:\n",
      "               precision    recall  f1-score   support\n",
      "\n",
      "           0       0.93      0.90      0.92      1242\n",
      "           1       0.82      0.80      0.81       475\n",
      "           2       0.68      0.96      0.79       139\n",
      "\n",
      "    accuracy                           0.88      1856\n",
      "   macro avg       0.81      0.89      0.84      1856\n",
      "weighted avg       0.89      0.88      0.88      1856\n",
      "\n"
     ]
    }
   ],
   "source": [
    "print( 'Naive Bays Classification Report:\\n', classification_report(test_label,Naive_prediction,target_names=['0','1','2']))"
   ]
  },
  {
   "cell_type": "code",
   "execution_count": null,
   "metadata": {
    "colab": {
     "base_uri": "https://localhost:8080/",
     "height": 50
    },
    "id": "7dJ_WdU3Sa3z",
    "outputId": "f8b1fb67-19aa-4141-f883-2da041e8e27d"
   },
   "outputs": [
    {
     "name": "stdout",
     "output_type": "stream",
     "text": [
      "Naive Bays Accuracy Score:\n",
      " 0.8798491379310345\n"
     ]
    }
   ],
   "source": [
    "print('Naive Bays Accuracy Score:\\n', accuracy_score(test_label,Naive_prediction))"
   ]
  },
  {
   "cell_type": "code",
   "execution_count": null,
   "metadata": {
    "colab": {
     "base_uri": "https://localhost:8080/",
     "height": 279
    },
    "id": "3LA5EyQESgkp",
    "outputId": "731abef9-77b5-4c5e-8728-770610cdeeb8"
   },
   "outputs": [
    {
     "data": {
      "image/png": "[encoded data removed]",
      "text/plain": [
       "<Figure size 432x288 with 1 Axes>"
      ]
     },
     "metadata": {
      "needs_background": "light",
      "tags": []
     },
     "output_type": "display_data"
    }
   ],
   "source": [
    "Naive_matrix = confusion_matrix(test_label,Naive_prediction)\n",
    "from mlxtend.plotting import plot_confusion_matrix\n",
    "import matplotlib.pyplot as plt\n",
    "\n",
    "\n",
    "fig, ax = plot_confusion_matrix(conf_mat=Naive_matrix)\n",
    "plt.show()"
   ]
  },
  {
   "cell_type": "code",
   "execution_count": null,
   "metadata": {
    "id": "jFYgSD2Gs9rU"
   },
   "outputs": [],
   "source": [
    "KNN_model = KNeighborsClassifier()\n",
    "KNN_model.fit(train_set_scaled,train_label)\n",
    "KNN_prediction = KNN_model.predict(test_set_scaled)"
   ]
  },
  {
   "cell_type": "code",
   "execution_count": null,
   "metadata": {
    "colab": {
     "base_uri": "https://localhost:8080/",
     "height": 202
    },
    "id": "p5jD0F8ztRYl",
    "outputId": "88dee1f1-5a60-4b37-a435-c6a4ded0f6b2"
   },
   "outputs": [
    {
     "name": "stdout",
     "output_type": "stream",
     "text": [
      "KNN Classification Report:\n",
      "               precision    recall  f1-score   support\n",
      "\n",
      "           0       0.79      0.92      0.85      1242\n",
      "           1       0.53      0.37      0.44       475\n",
      "           2       1.00      0.47      0.64       139\n",
      "\n",
      "    accuracy                           0.75      1856\n",
      "   macro avg       0.77      0.59      0.64      1856\n",
      "weighted avg       0.74      0.75      0.73      1856\n",
      "\n"
     ]
    }
   ],
   "source": [
    "print( 'KNN Classification Report:\\n', classification_report(test_label,KNN_prediction,target_names=['0','1','2']))"
   ]
  },
  {
   "cell_type": "code",
   "execution_count": null,
   "metadata": {
    "colab": {
     "base_uri": "https://localhost:8080/",
     "height": 50
    },
    "id": "rgMYa6PktRwl",
    "outputId": "27f8ba45-4335-4169-e184-fae43b0cd8a9"
   },
   "outputs": [
    {
     "name": "stdout",
     "output_type": "stream",
     "text": [
      "KNN Accuracy Score:\n",
      " 0.7483836206896551\n"
     ]
    }
   ],
   "source": [
    "print('KNN Accuracy Score:\\n', accuracy_score(test_label,KNN_prediction))"
   ]
  },
  {
   "cell_type": "code",
   "execution_count": null,
   "metadata": {
    "colab": {
     "base_uri": "https://localhost:8080/",
     "height": 279
    },
    "id": "jFRwvTBNtd6O",
    "outputId": "8cf822d0-f849-43d5-e18e-f5eaeacb0202"
   },
   "outputs": [
    {
     "data": {
      "image/png": "[encoded data removed]",
      "text/plain": [
       "<Figure size 432x288 with 1 Axes>"
      ]
     },
     "metadata": {
      "needs_background": "light",
      "tags": []
     },
     "output_type": "display_data"
    }
   ],
   "source": [
    "KNN_matrix = confusion_matrix(test_label,KNN_prediction)\n",
    "from mlxtend.plotting import plot_confusion_matrix\n",
    "import matplotlib.pyplot as plt\n",
    "\n",
    "\n",
    "fig, ax = plot_confusion_matrix(conf_mat=KNN_matrix)\n",
    "plt.show()"
   ]
  },
  {
   "cell_type": "code",
   "execution_count": null,
   "metadata": {
    "id": "A_xp9jwQe7Ba"
   },
   "outputs": [],
   "source": [
    "SV_model = SVC(gamma='scale')\n",
    "SV_model.fit(train_set_scaled,train_label)\n",
    "SV_prediction = SV_model.predict(test_set_scaled)"
   ]
  },
  {
   "cell_type": "code",
   "execution_count": null,
   "metadata": {
    "colab": {
     "base_uri": "https://localhost:8080/",
     "height": 202
    },
    "id": "wN-SCEmFfIAy",
    "outputId": "3ce4cc4b-9c6a-4f63-92b2-be226c7cbff2"
   },
   "outputs": [
    {
     "name": "stdout",
     "output_type": "stream",
     "text": [
      "SVC Classification Report:\n",
      "               precision    recall  f1-score   support\n",
      "\n",
      "           0       0.91      0.98      0.94      1276\n",
      "           1       0.85      0.71      0.77       477\n",
      "           2       0.92      0.73      0.81       139\n",
      "\n",
      "    accuracy                           0.89      1892\n",
      "   macro avg       0.89      0.81      0.84      1892\n",
      "weighted avg       0.89      0.89      0.89      1892\n",
      "\n"
     ]
    }
   ],
   "source": [
    "print( 'SVC Classification Report:\\n', classification_report(test_label,SV_prediction,target_names=['0','1','2']))"
   ]
  },
  {
   "cell_type": "code",
   "execution_count": null,
   "metadata": {
    "colab": {
     "base_uri": "https://localhost:8080/",
     "height": 50
    },
    "id": "sIX0msU5fOw_",
    "outputId": "763a3e92-6d2d-4762-bc03-d751d749dd69"
   },
   "outputs": [
    {
     "name": "stdout",
     "output_type": "stream",
     "text": [
      " SVC Accuracy Score:\n",
      " 0.8948202959830867\n"
     ]
    }
   ],
   "source": [
    "print(' SVC Accuracy Score:\\n', accuracy_score(test_label,SV_prediction))"
   ]
  },
  {
   "cell_type": "code",
   "execution_count": null,
   "metadata": {
    "colab": {
     "base_uri": "https://localhost:8080/",
     "height": 279
    },
    "id": "eXK-4vpOfhFi",
    "outputId": "9ab9acdc-5c58-44a1-a637-77f04728938f"
   },
   "outputs": [
    {
     "data": {
      "image/png": "[encoded data removed]",
      "text/plain": [
       "<Figure size 432x288 with 1 Axes>"
      ]
     },
     "metadata": {
      "needs_background": "light",
      "tags": []
     },
     "output_type": "display_data"
    }
   ],
   "source": [
    "SV_matrix = confusion_matrix(test_label,SV_prediction)\n",
    "from mlxtend.plotting import plot_confusion_matrix\n",
    "import matplotlib.pyplot as plt\n",
    "\n",
    "\n",
    "fig, ax = plot_confusion_matrix(conf_mat=SV_matrix,cmap='viridis')\n",
    "plt.show()"
   ]
  },
  {
   "cell_type": "code",
   "execution_count": null,
   "metadata": {
    "id": "zyP69ORtfrfJ"
   },
   "outputs": [],
   "source": [
    "RF_model = RandomForestClassifier(n_estimators=100)\n",
    "RF_model.fit(train_set_scaled,train_label)\n",
    "RF_prediction = RF_model.predict(test_set_scaled)"
   ]
  },
  {
   "cell_type": "code",
   "execution_count": null,
   "metadata": {
    "colab": {
     "base_uri": "https://localhost:8080/",
     "height": 202
    },
    "id": "7FHaN3AegJPg",
    "outputId": "abd999ad-f172-4902-dbb9-e16e2c2e7630"
   },
   "outputs": [
    {
     "name": "stdout",
     "output_type": "stream",
     "text": [
      "RFC Classification Report:\n",
      "               precision    recall  f1-score   support\n",
      "\n",
      "           0       1.00      1.00      1.00      1242\n",
      "           1       1.00      1.00      1.00       475\n",
      "           2       1.00      0.99      0.99       139\n",
      "\n",
      "    accuracy                           1.00      1856\n",
      "   macro avg       1.00      1.00      1.00      1856\n",
      "weighted avg       1.00      1.00      1.00      1856\n",
      "\n"
     ]
    }
   ],
   "source": [
    "print( 'RFC Classification Report:\\n', classification_report(test_label,RF_prediction,target_names=['0','1','2']))"
   ]
  },
  {
   "cell_type": "code",
   "execution_count": null,
   "metadata": {
    "colab": {
     "base_uri": "https://localhost:8080/",
     "height": 50
    },
    "id": "X7nVlZ6YgM0K",
    "outputId": "33c161db-ce71-4a72-b8af-61d8f9f74bf4"
   },
   "outputs": [
    {
     "name": "stdout",
     "output_type": "stream",
     "text": [
      " RFC Accuracy Score:\n",
      " 0.9989224137931034\n"
     ]
    }
   ],
   "source": [
    "print(' RFC Accuracy Score:\\n', accuracy_score(test_label,RF_prediction))"
   ]
  },
  {
   "cell_type": "code",
   "execution_count": null,
   "metadata": {
    "colab": {
     "base_uri": "https://localhost:8080/",
     "height": 279
    },
    "id": "fkvELFU0gUND",
    "outputId": "9a8703b9-81aa-40fa-a51f-aa104fcb7e54"
   },
   "outputs": [
    {
     "data": {
      "image/png": "[encoded data removed]",
      "text/plain": [
       "<Figure size 432x288 with 1 Axes>"
      ]
     },
     "metadata": {
      "needs_background": "light",
      "tags": []
     },
     "output_type": "display_data"
    }
   ],
   "source": [
    "RF_matrix = confusion_matrix(test_label,RF_prediction)\n",
    "from mlxtend.plotting import plot_confusion_matrix\n",
    "import matplotlib.pyplot as plt\n",
    "\n",
    "\n",
    "fig, ax = plot_confusion_matrix(conf_mat=RF_matrix)\n",
    "plt.show()"
   ]
  },
  {
   "cell_type": "code",
   "execution_count": null,
   "metadata": {
    "id": "4dTQQVBLgk9W"
   },
   "outputs": [],
   "source": []
  }
 ],
 "metadata": {
  "colab": {
   "collapsed_sections": [],
   "name": "Glycoheamoglobin 1.ipynb",
   "provenance": []
  },
  "kernelspec": {
   "display_name": "Python 3",
   "language": "python",
   "name": "python3"
  },
  "language_info": {
   "codemirror_mode": {
    "name": "ipython",
    "version": 3
   },
   "file_extension": ".py",
   "mimetype": "text/x-python",
   "name": "python",
   "nbconvert_exporter": "python",
   "pygments_lexer": "ipython3",
   "version": "3.8.5"
  }
 },
 "nbformat": 4,
 "nbformat_minor": 1
}
